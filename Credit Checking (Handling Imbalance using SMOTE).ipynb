{
 "cells": [
  {
   "cell_type": "markdown",
   "metadata": {},
   "source": [
    "### Problem Statement "
   ]
  },
  {
   "cell_type": "markdown",
   "metadata": {},
   "source": [
    "A Binary classification problem on checking whether the customer is eligible for the credit. "
   ]
  },
  {
   "cell_type": "markdown",
   "metadata": {},
   "source": [
    "### Importing all the libraries needed"
   ]
  },
  {
   "cell_type": "code",
   "execution_count": 1,
   "metadata": {},
   "outputs": [
    {
     "name": "stderr",
     "output_type": "stream",
     "text": [
      "Using TensorFlow backend.\n"
     ]
    }
   ],
   "source": [
    "import os\n",
    "import pandas as pd\n",
    "import numpy as np\n",
    "import sklearn\n",
    "\n",
    "from sklearn import preprocessing\n",
    "from sklearn.impute import SimpleImputer\n",
    "from sklearn.compose import ColumnTransformer\n",
    "\n",
    "from sklearn.preprocessing import StandardScaler\n",
    "from sklearn.preprocessing import OneHotEncoder\n",
    "from sklearn.model_selection import train_test_split\n",
    "from sklearn.pipeline import Pipeline\n",
    "from sklearn.model_selection import GridSearchCV, RandomizedSearchCV\n",
    "from sklearn.model_selection import cross_val_score\n",
    "from sklearn.ensemble import RandomForestClassifier\n",
    "from sklearn.neighbors import KNeighborsClassifier\n",
    "\n",
    "from sklearn.svm import SVC\n",
    "from sklearn.linear_model import LogisticRegression\n",
    "from sklearn.metrics import confusion_matrix\n",
    "from sklearn import metrics\n",
    "\n",
    "import matplotlib.pyplot as plt\n",
    "import seaborn as sns\n",
    "from imblearn.over_sampling import SMOTE\n",
    "from sklearn.metrics import accuracy_score, recall_score, precision_score\n",
    "\n",
    "import warnings\n",
    "warnings.filterwarnings('ignore')\n",
    "\n",
    "import plotly\n",
    "import plotly.offline as pyoff\n",
    "import plotly.figure_factory as ff\n",
    "from plotly.offline import init_notebook_mode, iplot, plot\n",
    "import plotly.graph_objs as go\n",
    "\n",
    "from numpy import asarray\n",
    "from numpy import savetxt\n",
    "from numpy import loadtxt"
   ]
  },
  {
   "cell_type": "code",
   "execution_count": 2,
   "metadata": {},
   "outputs": [
    {
     "name": "stdout",
     "output_type": "stream",
     "text": [
      "Tensorflow version:  2.1.0\n"
     ]
    }
   ],
   "source": [
    "from __future__ import print_function\n",
    "\n",
    "import numpy as np\n",
    "import pandas as pd\n",
    "import time\n",
    "import os\n",
    "\n",
    "import matplotlib.pyplot as plt\n",
    "%matplotlib inline\n",
    "plt.rcParams['figure.figsize'] = (10, 10) \n",
    "\n",
    "import tensorflow as tf\n",
    "print('Tensorflow version: ', tf.__version__)"
   ]
  },
  {
   "cell_type": "markdown",
   "metadata": {},
   "source": [
    "### Reading the Training dataset"
   ]
  },
  {
   "cell_type": "code",
   "execution_count": 3,
   "metadata": {},
   "outputs": [],
   "source": [
    "data = pd.read_csv(\"cs-training.csv\", sep=',', header=0)\n",
    "data = data.rename(columns = {'Unnamed: 0':'id'})"
   ]
  },
  {
   "cell_type": "markdown",
   "metadata": {},
   "source": [
    "### EDA on the Data"
   ]
  },
  {
   "cell_type": "code",
   "execution_count": 4,
   "metadata": {},
   "outputs": [
    {
     "data": {
      "text/html": [
       "<div>\n",
       "<style scoped>\n",
       "    .dataframe tbody tr th:only-of-type {\n",
       "        vertical-align: middle;\n",
       "    }\n",
       "\n",
       "    .dataframe tbody tr th {\n",
       "        vertical-align: top;\n",
       "    }\n",
       "\n",
       "    .dataframe thead th {\n",
       "        text-align: right;\n",
       "    }\n",
       "</style>\n",
       "<table border=\"1\" class=\"dataframe\">\n",
       "  <thead>\n",
       "    <tr style=\"text-align: right;\">\n",
       "      <th></th>\n",
       "      <th>id</th>\n",
       "      <th>SeriousDlqin2yrs</th>\n",
       "      <th>RevolvingUtilizationOfUnsecuredLines</th>\n",
       "      <th>age</th>\n",
       "      <th>NumberOfTime30-59DaysPastDueNotWorse</th>\n",
       "      <th>DebtRatio</th>\n",
       "      <th>MonthlyIncome</th>\n",
       "      <th>NumberOfOpenCreditLinesAndLoans</th>\n",
       "      <th>NumberOfTimes90DaysLate</th>\n",
       "      <th>NumberRealEstateLoansOrLines</th>\n",
       "      <th>NumberOfTime60-89DaysPastDueNotWorse</th>\n",
       "      <th>NumberOfDependents</th>\n",
       "    </tr>\n",
       "  </thead>\n",
       "  <tbody>\n",
       "    <tr>\n",
       "      <td>0</td>\n",
       "      <td>1</td>\n",
       "      <td>1</td>\n",
       "      <td>0.766127</td>\n",
       "      <td>45</td>\n",
       "      <td>2</td>\n",
       "      <td>0.802982</td>\n",
       "      <td>9120.0</td>\n",
       "      <td>13</td>\n",
       "      <td>0</td>\n",
       "      <td>6</td>\n",
       "      <td>0</td>\n",
       "      <td>2.0</td>\n",
       "    </tr>\n",
       "    <tr>\n",
       "      <td>1</td>\n",
       "      <td>2</td>\n",
       "      <td>0</td>\n",
       "      <td>0.957151</td>\n",
       "      <td>40</td>\n",
       "      <td>0</td>\n",
       "      <td>0.121876</td>\n",
       "      <td>2600.0</td>\n",
       "      <td>4</td>\n",
       "      <td>0</td>\n",
       "      <td>0</td>\n",
       "      <td>0</td>\n",
       "      <td>1.0</td>\n",
       "    </tr>\n",
       "    <tr>\n",
       "      <td>2</td>\n",
       "      <td>3</td>\n",
       "      <td>0</td>\n",
       "      <td>0.658180</td>\n",
       "      <td>38</td>\n",
       "      <td>1</td>\n",
       "      <td>0.085113</td>\n",
       "      <td>3042.0</td>\n",
       "      <td>2</td>\n",
       "      <td>1</td>\n",
       "      <td>0</td>\n",
       "      <td>0</td>\n",
       "      <td>0.0</td>\n",
       "    </tr>\n",
       "    <tr>\n",
       "      <td>3</td>\n",
       "      <td>4</td>\n",
       "      <td>0</td>\n",
       "      <td>0.233810</td>\n",
       "      <td>30</td>\n",
       "      <td>0</td>\n",
       "      <td>0.036050</td>\n",
       "      <td>3300.0</td>\n",
       "      <td>5</td>\n",
       "      <td>0</td>\n",
       "      <td>0</td>\n",
       "      <td>0</td>\n",
       "      <td>0.0</td>\n",
       "    </tr>\n",
       "    <tr>\n",
       "      <td>4</td>\n",
       "      <td>5</td>\n",
       "      <td>0</td>\n",
       "      <td>0.907239</td>\n",
       "      <td>49</td>\n",
       "      <td>1</td>\n",
       "      <td>0.024926</td>\n",
       "      <td>63588.0</td>\n",
       "      <td>7</td>\n",
       "      <td>0</td>\n",
       "      <td>1</td>\n",
       "      <td>0</td>\n",
       "      <td>0.0</td>\n",
       "    </tr>\n",
       "  </tbody>\n",
       "</table>\n",
       "</div>"
      ],
      "text/plain": [
       "   id  SeriousDlqin2yrs  RevolvingUtilizationOfUnsecuredLines  age  \\\n",
       "0   1                 1                              0.766127   45   \n",
       "1   2                 0                              0.957151   40   \n",
       "2   3                 0                              0.658180   38   \n",
       "3   4                 0                              0.233810   30   \n",
       "4   5                 0                              0.907239   49   \n",
       "\n",
       "   NumberOfTime30-59DaysPastDueNotWorse  DebtRatio  MonthlyIncome  \\\n",
       "0                                     2   0.802982         9120.0   \n",
       "1                                     0   0.121876         2600.0   \n",
       "2                                     1   0.085113         3042.0   \n",
       "3                                     0   0.036050         3300.0   \n",
       "4                                     1   0.024926        63588.0   \n",
       "\n",
       "   NumberOfOpenCreditLinesAndLoans  NumberOfTimes90DaysLate  \\\n",
       "0                               13                        0   \n",
       "1                                4                        0   \n",
       "2                                2                        1   \n",
       "3                                5                        0   \n",
       "4                                7                        0   \n",
       "\n",
       "   NumberRealEstateLoansOrLines  NumberOfTime60-89DaysPastDueNotWorse  \\\n",
       "0                             6                                     0   \n",
       "1                             0                                     0   \n",
       "2                             0                                     0   \n",
       "3                             0                                     0   \n",
       "4                             1                                     0   \n",
       "\n",
       "   NumberOfDependents  \n",
       "0                 2.0  \n",
       "1                 1.0  \n",
       "2                 0.0  \n",
       "3                 0.0  \n",
       "4                 0.0  "
      ]
     },
     "execution_count": 4,
     "metadata": {},
     "output_type": "execute_result"
    }
   ],
   "source": [
    "data.head()"
   ]
  },
  {
   "cell_type": "code",
   "execution_count": 5,
   "metadata": {},
   "outputs": [
    {
     "name": "stdout",
     "output_type": "stream",
     "text": [
      "(150000, 12)\n",
      "['id', 'SeriousDlqin2yrs', 'RevolvingUtilizationOfUnsecuredLines', 'age', 'NumberOfTime30-59DaysPastDueNotWorse', 'DebtRatio', 'MonthlyIncome', 'NumberOfOpenCreditLinesAndLoans', 'NumberOfTimes90DaysLate', 'NumberRealEstateLoansOrLines', 'NumberOfTime60-89DaysPastDueNotWorse', 'NumberOfDependents']\n",
      "id                                        int64\n",
      "SeriousDlqin2yrs                          int64\n",
      "RevolvingUtilizationOfUnsecuredLines    float64\n",
      "age                                       int64\n",
      "NumberOfTime30-59DaysPastDueNotWorse      int64\n",
      "DebtRatio                               float64\n",
      "MonthlyIncome                           float64\n",
      "NumberOfOpenCreditLinesAndLoans           int64\n",
      "NumberOfTimes90DaysLate                   int64\n",
      "NumberRealEstateLoansOrLines              int64\n",
      "NumberOfTime60-89DaysPastDueNotWorse      int64\n",
      "NumberOfDependents                      float64\n",
      "dtype: object\n"
     ]
    }
   ],
   "source": [
    "print(data.shape)\n",
    "print(list(data.columns))\n",
    "print((data.dtypes))"
   ]
  },
  {
   "cell_type": "markdown",
   "metadata": {},
   "source": [
    "### Correlation of data"
   ]
  },
  {
   "cell_type": "code",
   "execution_count": 6,
   "metadata": {},
   "outputs": [
    {
     "name": "stdout",
     "output_type": "stream",
     "text": [
      "                                            id  SeriousDlqin2yrs  \\\n",
      "id                                    1.000000          0.002801   \n",
      "SeriousDlqin2yrs                      0.002801          1.000000   \n",
      "RevolvingUtilizationOfUnsecuredLines  0.002372         -0.001802   \n",
      "age                                   0.004403         -0.115386   \n",
      "NumberOfTime30-59DaysPastDueNotWorse -0.000571          0.125587   \n",
      "DebtRatio                            -0.002906         -0.007602   \n",
      "MonthlyIncome                         0.002632         -0.019746   \n",
      "NumberOfOpenCreditLinesAndLoans       0.004586         -0.029669   \n",
      "NumberOfTimes90DaysLate              -0.001104          0.117175   \n",
      "NumberRealEstateLoansOrLines         -0.000666         -0.007038   \n",
      "NumberOfTime60-89DaysPastDueNotWorse -0.000777          0.102261   \n",
      "NumberOfDependents                   -0.000055          0.046048   \n",
      "\n",
      "                                      RevolvingUtilizationOfUnsecuredLines  \\\n",
      "id                                                                0.002372   \n",
      "SeriousDlqin2yrs                                                 -0.001802   \n",
      "RevolvingUtilizationOfUnsecuredLines                              1.000000   \n",
      "age                                                              -0.005898   \n",
      "NumberOfTime30-59DaysPastDueNotWorse                             -0.001314   \n",
      "DebtRatio                                                         0.003961   \n",
      "MonthlyIncome                                                     0.007124   \n",
      "NumberOfOpenCreditLinesAndLoans                                  -0.011281   \n",
      "NumberOfTimes90DaysLate                                          -0.001061   \n",
      "NumberRealEstateLoansOrLines                                      0.006235   \n",
      "NumberOfTime60-89DaysPastDueNotWorse                             -0.001048   \n",
      "NumberOfDependents                                                0.001557   \n",
      "\n",
      "                                           age  \\\n",
      "id                                    0.004403   \n",
      "SeriousDlqin2yrs                     -0.115386   \n",
      "RevolvingUtilizationOfUnsecuredLines -0.005898   \n",
      "age                                   1.000000   \n",
      "NumberOfTime30-59DaysPastDueNotWorse -0.062995   \n",
      "DebtRatio                             0.024188   \n",
      "MonthlyIncome                         0.037717   \n",
      "NumberOfOpenCreditLinesAndLoans       0.147705   \n",
      "NumberOfTimes90DaysLate              -0.061005   \n",
      "NumberRealEstateLoansOrLines          0.033150   \n",
      "NumberOfTime60-89DaysPastDueNotWorse -0.057159   \n",
      "NumberOfDependents                   -0.213303   \n",
      "\n",
      "                                      NumberOfTime30-59DaysPastDueNotWorse  \\\n",
      "id                                                               -0.000571   \n",
      "SeriousDlqin2yrs                                                  0.125587   \n",
      "RevolvingUtilizationOfUnsecuredLines                             -0.001314   \n",
      "age                                                              -0.062995   \n",
      "NumberOfTime30-59DaysPastDueNotWorse                              1.000000   \n",
      "DebtRatio                                                        -0.006542   \n",
      "MonthlyIncome                                                    -0.010217   \n",
      "NumberOfOpenCreditLinesAndLoans                                  -0.055312   \n",
      "NumberOfTimes90DaysLate                                           0.983603   \n",
      "NumberRealEstateLoansOrLines                                     -0.030565   \n",
      "NumberOfTime60-89DaysPastDueNotWorse                              0.987005   \n",
      "NumberOfDependents                                               -0.002680   \n",
      "\n",
      "                                      DebtRatio  MonthlyIncome  \\\n",
      "id                                    -0.002906       0.002632   \n",
      "SeriousDlqin2yrs                      -0.007602      -0.019746   \n",
      "RevolvingUtilizationOfUnsecuredLines   0.003961       0.007124   \n",
      "age                                    0.024188       0.037717   \n",
      "NumberOfTime30-59DaysPastDueNotWorse  -0.006542      -0.010217   \n",
      "DebtRatio                              1.000000      -0.028712   \n",
      "MonthlyIncome                         -0.028712       1.000000   \n",
      "NumberOfOpenCreditLinesAndLoans        0.049565       0.091455   \n",
      "NumberOfTimes90DaysLate               -0.008320      -0.012743   \n",
      "NumberRealEstateLoansOrLines           0.120046       0.124959   \n",
      "NumberOfTime60-89DaysPastDueNotWorse  -0.007533      -0.011116   \n",
      "NumberOfDependents                    -0.040673       0.062647   \n",
      "\n",
      "                                      NumberOfOpenCreditLinesAndLoans  \\\n",
      "id                                                           0.004586   \n",
      "SeriousDlqin2yrs                                            -0.029669   \n",
      "RevolvingUtilizationOfUnsecuredLines                        -0.011281   \n",
      "age                                                          0.147705   \n",
      "NumberOfTime30-59DaysPastDueNotWorse                        -0.055312   \n",
      "DebtRatio                                                    0.049565   \n",
      "MonthlyIncome                                                0.091455   \n",
      "NumberOfOpenCreditLinesAndLoans                              1.000000   \n",
      "NumberOfTimes90DaysLate                                     -0.079984   \n",
      "NumberRealEstateLoansOrLines                                 0.433959   \n",
      "NumberOfTime60-89DaysPastDueNotWorse                        -0.071077   \n",
      "NumberOfDependents                                           0.065322   \n",
      "\n",
      "                                      NumberOfTimes90DaysLate  \\\n",
      "id                                                  -0.001104   \n",
      "SeriousDlqin2yrs                                     0.117175   \n",
      "RevolvingUtilizationOfUnsecuredLines                -0.001061   \n",
      "age                                                 -0.061005   \n",
      "NumberOfTime30-59DaysPastDueNotWorse                 0.983603   \n",
      "DebtRatio                                           -0.008320   \n",
      "MonthlyIncome                                       -0.012743   \n",
      "NumberOfOpenCreditLinesAndLoans                     -0.079984   \n",
      "NumberOfTimes90DaysLate                              1.000000   \n",
      "NumberRealEstateLoansOrLines                        -0.045205   \n",
      "NumberOfTime60-89DaysPastDueNotWorse                 0.992796   \n",
      "NumberOfDependents                                  -0.010176   \n",
      "\n",
      "                                      NumberRealEstateLoansOrLines  \\\n",
      "id                                                       -0.000666   \n",
      "SeriousDlqin2yrs                                         -0.007038   \n",
      "RevolvingUtilizationOfUnsecuredLines                      0.006235   \n",
      "age                                                       0.033150   \n",
      "NumberOfTime30-59DaysPastDueNotWorse                     -0.030565   \n",
      "DebtRatio                                                 0.120046   \n",
      "MonthlyIncome                                             0.124959   \n",
      "NumberOfOpenCreditLinesAndLoans                           0.433959   \n",
      "NumberOfTimes90DaysLate                                  -0.045205   \n",
      "NumberRealEstateLoansOrLines                              1.000000   \n",
      "NumberOfTime60-89DaysPastDueNotWorse                     -0.039722   \n",
      "NumberOfDependents                                        0.124684   \n",
      "\n",
      "                                      NumberOfTime60-89DaysPastDueNotWorse  \\\n",
      "id                                                               -0.000777   \n",
      "SeriousDlqin2yrs                                                  0.102261   \n",
      "RevolvingUtilizationOfUnsecuredLines                             -0.001048   \n",
      "age                                                              -0.057159   \n",
      "NumberOfTime30-59DaysPastDueNotWorse                              0.987005   \n",
      "DebtRatio                                                        -0.007533   \n",
      "MonthlyIncome                                                    -0.011116   \n",
      "NumberOfOpenCreditLinesAndLoans                                  -0.071077   \n",
      "NumberOfTimes90DaysLate                                           0.992796   \n",
      "NumberRealEstateLoansOrLines                                     -0.039722   \n",
      "NumberOfTime60-89DaysPastDueNotWorse                              1.000000   \n",
      "NumberOfDependents                                               -0.010922   \n",
      "\n",
      "                                      NumberOfDependents  \n",
      "id                                             -0.000055  \n",
      "SeriousDlqin2yrs                                0.046048  \n",
      "RevolvingUtilizationOfUnsecuredLines            0.001557  \n",
      "age                                            -0.213303  \n",
      "NumberOfTime30-59DaysPastDueNotWorse           -0.002680  \n",
      "DebtRatio                                      -0.040673  \n",
      "MonthlyIncome                                   0.062647  \n",
      "NumberOfOpenCreditLinesAndLoans                 0.065322  \n",
      "NumberOfTimes90DaysLate                        -0.010176  \n",
      "NumberRealEstateLoansOrLines                    0.124684  \n",
      "NumberOfTime60-89DaysPastDueNotWorse           -0.010922  \n",
      "NumberOfDependents                              1.000000  \n"
     ]
    }
   ],
   "source": [
    "corr=data.corr()\n",
    "print(corr)"
   ]
  },
  {
   "cell_type": "code",
   "execution_count": 7,
   "metadata": {
    "scrolled": false
   },
   "outputs": [
    {
     "data": {
      "text/plain": [
       "<matplotlib.axes._subplots.AxesSubplot at 0x1977474f748>"
      ]
     },
     "execution_count": 7,
     "metadata": {},
     "output_type": "execute_result"
    },
    {
     "data": {
      "image/png": "[encoded data removed]",
      "text/plain": [
       "<Figure size 1080x864 with 2 Axes>"
      ]
     },
     "metadata": {
      "needs_background": "light"
     },
     "output_type": "display_data"
    }
   ],
   "source": [
    "mask = np.zeros_like(corr, dtype=np.bool)\n",
    "mask[np.triu_indices_from(mask)] = True\n",
    "\n",
    "\n",
    "# Set up the matplotlib figure\n",
    "f, ax = plt.subplots(figsize=(15, 12))\n",
    "\n",
    "# Generate a custom diverging colormap\n",
    "cmap = sns.diverging_palette(800, 14, as_cmap=True)\n",
    "\n",
    "# Draw the heatmap with the mask and correct aspect ratio\n",
    "sns.heatmap(corr, mask=mask, cmap=cmap, vmax=.3, center=0,\n",
    "            square=True, linewidths=.5, cbar_kws={\"shrink\": .5})"
   ]
  },
  {
   "cell_type": "code",
   "execution_count": 8,
   "metadata": {},
   "outputs": [],
   "source": [
    "data.drop(\"id\", axis = 1, inplace= True)"
   ]
  },
  {
   "cell_type": "markdown",
   "metadata": {},
   "source": [
    "### Distribution of the target variable"
   ]
  },
  {
   "cell_type": "code",
   "execution_count": 9,
   "metadata": {},
   "outputs": [
    {
     "data": {
      "image/png": "[encoded data removed]",
      "text/plain": [
       "<Figure size 720x720 with 1 Axes>"
      ]
     },
     "metadata": {
      "needs_background": "light"
     },
     "output_type": "display_data"
    },
    {
     "name": "stdout",
     "output_type": "stream",
     "text": [
      "0    139974\n",
      "1     10026\n",
      "Name: SeriousDlqin2yrs, dtype: int64\n"
     ]
    }
   ],
   "source": [
    "sns.countplot(x='SeriousDlqin2yrs',data=data)\n",
    "plt.show()\n",
    "\n",
    "# What are the counts?\n",
    "print(data.SeriousDlqin2yrs.value_counts())"
   ]
  },
  {
   "cell_type": "markdown",
   "metadata": {},
   "source": [
    "#### ----Class Imbalance is identified----"
   ]
  },
  {
   "cell_type": "markdown",
   "metadata": {},
   "source": [
    "### Looking for missing or NA values"
   ]
  },
  {
   "cell_type": "code",
   "execution_count": 10,
   "metadata": {
    "scrolled": true
   },
   "outputs": [
    {
     "name": "stdout",
     "output_type": "stream",
     "text": [
      "SeriousDlqin2yrs                            0\n",
      "RevolvingUtilizationOfUnsecuredLines        0\n",
      "age                                         0\n",
      "NumberOfTime30-59DaysPastDueNotWorse        0\n",
      "DebtRatio                                   0\n",
      "MonthlyIncome                           29731\n",
      "NumberOfOpenCreditLinesAndLoans             0\n",
      "NumberOfTimes90DaysLate                     0\n",
      "NumberRealEstateLoansOrLines                0\n",
      "NumberOfTime60-89DaysPastDueNotWorse        0\n",
      "NumberOfDependents                       3924\n",
      "dtype: int64\n"
     ]
    }
   ],
   "source": [
    "# Check missing values\n",
    "print(data.isnull().sum(axis=0))"
   ]
  },
  {
   "cell_type": "markdown",
   "metadata": {},
   "source": [
    "### Imputing the missing data with mean"
   ]
  },
  {
   "cell_type": "code",
   "execution_count": 11,
   "metadata": {},
   "outputs": [],
   "source": [
    "# Generate missing imputators variables.\n",
    "data['MonthlyIncomeMissing'] = data.apply(lambda row: 1 if pd.isnull(row['MonthlyIncome']) else 0, axis=1)\n",
    "data['NumberOfDependentsMissing'] = data.apply(lambda row: 1 if pd.isnull(row['NumberOfDependents']) else 0, axis=1)\n",
    "\n",
    "# Impute missing values by the mean\n",
    "data = data.fillna(data.mean())"
   ]
  },
  {
   "cell_type": "code",
   "execution_count": 12,
   "metadata": {},
   "outputs": [
    {
     "name": "stdout",
     "output_type": "stream",
     "text": [
      "SeriousDlqin2yrs                        0\n",
      "RevolvingUtilizationOfUnsecuredLines    0\n",
      "age                                     0\n",
      "NumberOfTime30-59DaysPastDueNotWorse    0\n",
      "DebtRatio                               0\n",
      "MonthlyIncome                           0\n",
      "NumberOfOpenCreditLinesAndLoans         0\n",
      "NumberOfTimes90DaysLate                 0\n",
      "NumberRealEstateLoansOrLines            0\n",
      "NumberOfTime60-89DaysPastDueNotWorse    0\n",
      "NumberOfDependents                      0\n",
      "MonthlyIncomeMissing                    0\n",
      "NumberOfDependentsMissing               0\n",
      "dtype: int64\n"
     ]
    }
   ],
   "source": [
    "# Check missing values\n",
    "print(data.isnull().sum(axis=0))"
   ]
  },
  {
   "cell_type": "code",
   "execution_count": 13,
   "metadata": {},
   "outputs": [
    {
     "data": {
      "text/html": [
       "<div>\n",
       "<style scoped>\n",
       "    .dataframe tbody tr th:only-of-type {\n",
       "        vertical-align: middle;\n",
       "    }\n",
       "\n",
       "    .dataframe tbody tr th {\n",
       "        vertical-align: top;\n",
       "    }\n",
       "\n",
       "    .dataframe thead th {\n",
       "        text-align: right;\n",
       "    }\n",
       "</style>\n",
       "<table border=\"1\" class=\"dataframe\">\n",
       "  <thead>\n",
       "    <tr style=\"text-align: right;\">\n",
       "      <th></th>\n",
       "      <th>SeriousDlqin2yrs</th>\n",
       "      <th>RevolvingUtilizationOfUnsecuredLines</th>\n",
       "      <th>age</th>\n",
       "      <th>NumberOfTime30-59DaysPastDueNotWorse</th>\n",
       "      <th>DebtRatio</th>\n",
       "      <th>MonthlyIncome</th>\n",
       "      <th>NumberOfOpenCreditLinesAndLoans</th>\n",
       "      <th>NumberOfTimes90DaysLate</th>\n",
       "      <th>NumberRealEstateLoansOrLines</th>\n",
       "      <th>NumberOfTime60-89DaysPastDueNotWorse</th>\n",
       "      <th>NumberOfDependents</th>\n",
       "      <th>MonthlyIncomeMissing</th>\n",
       "      <th>NumberOfDependentsMissing</th>\n",
       "    </tr>\n",
       "  </thead>\n",
       "  <tbody>\n",
       "    <tr>\n",
       "      <td>count</td>\n",
       "      <td>150000.000000</td>\n",
       "      <td>150000.000000</td>\n",
       "      <td>150000.000000</td>\n",
       "      <td>150000.000000</td>\n",
       "      <td>150000.000000</td>\n",
       "      <td>1.500000e+05</td>\n",
       "      <td>150000.000000</td>\n",
       "      <td>150000.000000</td>\n",
       "      <td>150000.000000</td>\n",
       "      <td>150000.000000</td>\n",
       "      <td>150000.000000</td>\n",
       "      <td>150000.000000</td>\n",
       "      <td>150000.000000</td>\n",
       "    </tr>\n",
       "    <tr>\n",
       "      <td>mean</td>\n",
       "      <td>0.066840</td>\n",
       "      <td>6.048438</td>\n",
       "      <td>52.295207</td>\n",
       "      <td>0.421033</td>\n",
       "      <td>353.005076</td>\n",
       "      <td>6.670221e+03</td>\n",
       "      <td>8.452760</td>\n",
       "      <td>0.265973</td>\n",
       "      <td>1.018240</td>\n",
       "      <td>0.240387</td>\n",
       "      <td>0.757222</td>\n",
       "      <td>0.198207</td>\n",
       "      <td>0.026160</td>\n",
       "    </tr>\n",
       "    <tr>\n",
       "      <td>std</td>\n",
       "      <td>0.249746</td>\n",
       "      <td>249.755371</td>\n",
       "      <td>14.771866</td>\n",
       "      <td>4.192781</td>\n",
       "      <td>2037.818523</td>\n",
       "      <td>1.288045e+04</td>\n",
       "      <td>5.145951</td>\n",
       "      <td>4.169304</td>\n",
       "      <td>1.129771</td>\n",
       "      <td>4.155179</td>\n",
       "      <td>1.100404</td>\n",
       "      <td>0.398650</td>\n",
       "      <td>0.159611</td>\n",
       "    </tr>\n",
       "    <tr>\n",
       "      <td>min</td>\n",
       "      <td>0.000000</td>\n",
       "      <td>0.000000</td>\n",
       "      <td>0.000000</td>\n",
       "      <td>0.000000</td>\n",
       "      <td>0.000000</td>\n",
       "      <td>0.000000e+00</td>\n",
       "      <td>0.000000</td>\n",
       "      <td>0.000000</td>\n",
       "      <td>0.000000</td>\n",
       "      <td>0.000000</td>\n",
       "      <td>0.000000</td>\n",
       "      <td>0.000000</td>\n",
       "      <td>0.000000</td>\n",
       "    </tr>\n",
       "    <tr>\n",
       "      <td>25%</td>\n",
       "      <td>0.000000</td>\n",
       "      <td>0.029867</td>\n",
       "      <td>41.000000</td>\n",
       "      <td>0.000000</td>\n",
       "      <td>0.175074</td>\n",
       "      <td>3.903000e+03</td>\n",
       "      <td>5.000000</td>\n",
       "      <td>0.000000</td>\n",
       "      <td>0.000000</td>\n",
       "      <td>0.000000</td>\n",
       "      <td>0.000000</td>\n",
       "      <td>0.000000</td>\n",
       "      <td>0.000000</td>\n",
       "    </tr>\n",
       "    <tr>\n",
       "      <td>50%</td>\n",
       "      <td>0.000000</td>\n",
       "      <td>0.154181</td>\n",
       "      <td>52.000000</td>\n",
       "      <td>0.000000</td>\n",
       "      <td>0.366508</td>\n",
       "      <td>6.600000e+03</td>\n",
       "      <td>8.000000</td>\n",
       "      <td>0.000000</td>\n",
       "      <td>1.000000</td>\n",
       "      <td>0.000000</td>\n",
       "      <td>0.000000</td>\n",
       "      <td>0.000000</td>\n",
       "      <td>0.000000</td>\n",
       "    </tr>\n",
       "    <tr>\n",
       "      <td>75%</td>\n",
       "      <td>0.000000</td>\n",
       "      <td>0.559046</td>\n",
       "      <td>63.000000</td>\n",
       "      <td>0.000000</td>\n",
       "      <td>0.868254</td>\n",
       "      <td>7.400000e+03</td>\n",
       "      <td>11.000000</td>\n",
       "      <td>0.000000</td>\n",
       "      <td>2.000000</td>\n",
       "      <td>0.000000</td>\n",
       "      <td>1.000000</td>\n",
       "      <td>0.000000</td>\n",
       "      <td>0.000000</td>\n",
       "    </tr>\n",
       "    <tr>\n",
       "      <td>max</td>\n",
       "      <td>1.000000</td>\n",
       "      <td>50708.000000</td>\n",
       "      <td>109.000000</td>\n",
       "      <td>98.000000</td>\n",
       "      <td>329664.000000</td>\n",
       "      <td>3.008750e+06</td>\n",
       "      <td>58.000000</td>\n",
       "      <td>98.000000</td>\n",
       "      <td>54.000000</td>\n",
       "      <td>98.000000</td>\n",
       "      <td>20.000000</td>\n",
       "      <td>1.000000</td>\n",
       "      <td>1.000000</td>\n",
       "    </tr>\n",
       "  </tbody>\n",
       "</table>\n",
       "</div>"
      ],
      "text/plain": [
       "       SeriousDlqin2yrs  RevolvingUtilizationOfUnsecuredLines            age  \\\n",
       "count     150000.000000                         150000.000000  150000.000000   \n",
       "mean           0.066840                              6.048438      52.295207   \n",
       "std            0.249746                            249.755371      14.771866   \n",
       "min            0.000000                              0.000000       0.000000   \n",
       "25%            0.000000                              0.029867      41.000000   \n",
       "50%            0.000000                              0.154181      52.000000   \n",
       "75%            0.000000                              0.559046      63.000000   \n",
       "max            1.000000                          50708.000000     109.000000   \n",
       "\n",
       "       NumberOfTime30-59DaysPastDueNotWorse      DebtRatio  MonthlyIncome  \\\n",
       "count                         150000.000000  150000.000000   1.500000e+05   \n",
       "mean                               0.421033     353.005076   6.670221e+03   \n",
       "std                                4.192781    2037.818523   1.288045e+04   \n",
       "min                                0.000000       0.000000   0.000000e+00   \n",
       "25%                                0.000000       0.175074   3.903000e+03   \n",
       "50%                                0.000000       0.366508   6.600000e+03   \n",
       "75%                                0.000000       0.868254   7.400000e+03   \n",
       "max                               98.000000  329664.000000   3.008750e+06   \n",
       "\n",
       "       NumberOfOpenCreditLinesAndLoans  NumberOfTimes90DaysLate  \\\n",
       "count                    150000.000000            150000.000000   \n",
       "mean                          8.452760                 0.265973   \n",
       "std                           5.145951                 4.169304   \n",
       "min                           0.000000                 0.000000   \n",
       "25%                           5.000000                 0.000000   \n",
       "50%                           8.000000                 0.000000   \n",
       "75%                          11.000000                 0.000000   \n",
       "max                          58.000000                98.000000   \n",
       "\n",
       "       NumberRealEstateLoansOrLines  NumberOfTime60-89DaysPastDueNotWorse  \\\n",
       "count                 150000.000000                         150000.000000   \n",
       "mean                       1.018240                              0.240387   \n",
       "std                        1.129771                              4.155179   \n",
       "min                        0.000000                              0.000000   \n",
       "25%                        0.000000                              0.000000   \n",
       "50%                        1.000000                              0.000000   \n",
       "75%                        2.000000                              0.000000   \n",
       "max                       54.000000                             98.000000   \n",
       "\n",
       "       NumberOfDependents  MonthlyIncomeMissing  NumberOfDependentsMissing  \n",
       "count       150000.000000         150000.000000              150000.000000  \n",
       "mean             0.757222              0.198207                   0.026160  \n",
       "std              1.100404              0.398650                   0.159611  \n",
       "min              0.000000              0.000000                   0.000000  \n",
       "25%              0.000000              0.000000                   0.000000  \n",
       "50%              0.000000              0.000000                   0.000000  \n",
       "75%              1.000000              0.000000                   0.000000  \n",
       "max             20.000000              1.000000                   1.000000  "
      ]
     },
     "execution_count": 13,
     "metadata": {},
     "output_type": "execute_result"
    }
   ],
   "source": [
    "data.describe()"
   ]
  },
  {
   "cell_type": "code",
   "execution_count": 14,
   "metadata": {},
   "outputs": [
    {
     "name": "stdout",
     "output_type": "stream",
     "text": [
      "SeriousDlqin2yrs                          int64\n",
      "RevolvingUtilizationOfUnsecuredLines    float64\n",
      "age                                       int64\n",
      "NumberOfTime30-59DaysPastDueNotWorse      int64\n",
      "DebtRatio                               float64\n",
      "MonthlyIncome                           float64\n",
      "NumberOfOpenCreditLinesAndLoans           int64\n",
      "NumberOfTimes90DaysLate                   int64\n",
      "NumberRealEstateLoansOrLines              int64\n",
      "NumberOfTime60-89DaysPastDueNotWorse      int64\n",
      "NumberOfDependents                      float64\n",
      "MonthlyIncomeMissing                      int64\n",
      "NumberOfDependentsMissing                 int64\n",
      "dtype: object\n"
     ]
    }
   ],
   "source": [
    "print((data.dtypes))"
   ]
  },
  {
   "cell_type": "markdown",
   "metadata": {},
   "source": [
    "### Train and test split"
   ]
  },
  {
   "cell_type": "code",
   "execution_count": 15,
   "metadata": {},
   "outputs": [
    {
     "name": "stdout",
     "output_type": "stream",
     "text": [
      "(120000, 12) (30000, 12)\n",
      "(120000, 1) (30000, 1)\n"
     ]
    }
   ],
   "source": [
    "# Separate train test and convert to numpy arrays\n",
    "from sklearn.model_selection import train_test_split\n",
    "\n",
    "input_vars = ['RevolvingUtilizationOfUnsecuredLines',\n",
    "             'age',\n",
    "             'NumberOfTime30-59DaysPastDueNotWorse',\n",
    "             'DebtRatio',\n",
    "             'MonthlyIncome',\n",
    "             'NumberOfOpenCreditLinesAndLoans',\n",
    "             'NumberOfTimes90DaysLate',\n",
    "             'NumberRealEstateLoansOrLines',\n",
    "             'NumberOfTime60-89DaysPastDueNotWorse',\n",
    "             'NumberOfDependents',\n",
    "             'MonthlyIncomeMissing',\n",
    "             'NumberOfDependentsMissing']\n",
    "\n",
    "target_var = ['SeriousDlqin2yrs']\n",
    "\n",
    "X_train, X_test, y_train, y_test = train_test_split(data[input_vars], data[target_var], test_size=0.2, random_state=42)\n",
    "X_train = np.array(X_train, dtype=np.float32)\n",
    "X_test  = np.array(X_test,  dtype=np.float32)\n",
    "y_train = np.array(y_train, dtype=np.uint8)\n",
    "y_test  = np.array(y_test,  dtype=np.uint8)\n",
    "\n",
    "print(X_train.shape, X_test.shape)\n",
    "print(y_train.shape, y_test.shape)"
   ]
  },
  {
   "cell_type": "markdown",
   "metadata": {},
   "source": [
    "### Handling Imbalance data using SMOTE"
   ]
  },
  {
   "cell_type": "code",
   "execution_count": 16,
   "metadata": {
    "scrolled": true
   },
   "outputs": [
    {
     "data": {
      "image/png": "[encoded data removed]",
      "text/plain": [
       "<Figure size 720x720 with 1 Axes>"
      ]
     },
     "metadata": {
      "needs_background": "light"
     },
     "output_type": "display_data"
    },
    {
     "name": "stdout",
     "output_type": "stream",
     "text": [
      "1    111930\n",
      "0    111930\n",
      "Name: SeriousDlqin2yrs, dtype: int64\n"
     ]
    }
   ],
   "source": [
    "smote = SMOTE(random_state=0)\n",
    "\n",
    "\n",
    "os_train_x,os_train_y=smote.fit_sample(X_train, y_train)\n",
    "\n",
    "os_train_x = pd.DataFrame(data=os_train_x)\n",
    "os_train_y= pd.DataFrame(data=os_train_y,columns=['SeriousDlqin2yrs'])\n",
    "\n",
    "sns.countplot(x='SeriousDlqin2yrs',data=os_train_y)\n",
    "plt.show()\n",
    "\n",
    "# What are the counts?\n",
    "print(os_train_y.SeriousDlqin2yrs.value_counts())"
   ]
  },
  {
   "cell_type": "markdown",
   "metadata": {},
   "source": [
    "### Model 1: Linear model standard parameters"
   ]
  },
  {
   "cell_type": "code",
   "execution_count": 17,
   "metadata": {},
   "outputs": [
    {
     "name": "stdout",
     "output_type": "stream",
     "text": [
      "Linear model...\n",
      "Model: \"model\"\n",
      "_________________________________________________________________\n",
      "Layer (type)                 Output Shape              Param #   \n",
      "=================================================================\n",
      "Input_data (InputLayer)      [(None, 12)]              0         \n",
      "_________________________________________________________________\n",
      "Dense_output (Dense)         (None, 2)                 26        \n",
      "=================================================================\n",
      "Total params: 26\n",
      "Trainable params: 26\n",
      "Non-trainable params: 0\n",
      "_________________________________________________________________\n"
     ]
    }
   ],
   "source": [
    "# First model - Linear model\n",
    "\n",
    "import tensorflow as tf\n",
    "\n",
    "print('Linear model...')\n",
    "input_data =  tf.keras.layers.Input(batch_shape=(None, 12), dtype='float32', name='Input_data') \n",
    "\n",
    "output_data =  tf.keras.layers.Dense(2, activation='softmax', name='Dense_output')(input_data)\n",
    "\n",
    "# Model Architecture defined\n",
    "model_linear = tf.keras.models.Model(inputs=input_data, outputs=output_data)\n",
    "model_linear.summary()"
   ]
  },
  {
   "cell_type": "code",
   "execution_count": 18,
   "metadata": {},
   "outputs": [],
   "source": [
    "# Select optimizer and compile model\n",
    "model_linear.compile(loss='sparse_categorical_crossentropy',  optimizer='Adam', metrics=['accuracy'])"
   ]
  },
  {
   "cell_type": "code",
   "execution_count": 19,
   "metadata": {
    "scrolled": true
   },
   "outputs": [
    {
     "name": "stdout",
     "output_type": "stream",
     "text": [
      "Train on 223860 samples, validate on 30000 samples\n",
      "Epoch 1/20\n",
      "223860/223860 [==============================] - 2s 8us/sample - loss: 85.5499 - accuracy: 0.5756 - val_loss: 0.9267 - val_accuracy: 0.5013\n",
      "Epoch 2/20\n",
      "223860/223860 [==============================] - 1s 7us/sample - loss: 0.8459 - accuracy: 0.6789 - val_loss: 0.5116 - val_accuracy: 0.8971\n",
      "Epoch 3/20\n",
      "223860/223860 [==============================] - 2s 7us/sample - loss: 1.1113 - accuracy: 0.6821 - val_loss: 0.4576 - val_accuracy: 0.9122\n",
      "Epoch 4/20\n",
      "223860/223860 [==============================] - 2s 7us/sample - loss: 1.1714 - accuracy: 0.6824 - val_loss: 0.9703 - val_accuracy: 0.5247\n",
      "Epoch 5/20\n",
      "223860/223860 [==============================] - 2s 8us/sample - loss: 0.7952 - accuracy: 0.6934 - val_loss: 0.7408 - val_accuracy: 0.7409accuracy:  - ETA: 0s - loss: 0.8079 - accuracy: 0.\n",
      "Epoch 6/20\n",
      "223860/223860 [==============================] - 2s 7us/sample - loss: 0.8476 - accuracy: 0.6883 - val_loss: 1.0092 - val_accuracy: 0.4583ac\n",
      "Epoch 7/20\n",
      "223860/223860 [==============================] - 2s 7us/sample - loss: 0.8082 - accuracy: 0.6873 - val_loss: 0.4519 - val_accuracy: 0.9040\n",
      "Epoch 8/20\n",
      "223860/223860 [==============================] - 2s 7us/sample - loss: 0.8156 - accuracy: 0.6803 - val_loss: 0.4133 - val_accuracy: 0.9173s: 0.7864 - \n",
      "Epoch 9/20\n",
      "223860/223860 [==============================] - 2s 7us/sample - loss: 0.8577 - accuracy: 0.6863 - val_loss: 0.4609 - val_accuracy: 0.8977 0.8846 - accuracy: 0.68 - ETA: 0s - loss: 0\n",
      "Epoch 10/20\n",
      "223860/223860 [==============================] - 2s 7us/sample - loss: 0.8204 - accuracy: 0.6798 - val_loss: 0.4310 - val_accuracy: 0.9125\n",
      "Epoch 11/20\n",
      "223860/223860 [==============================] - 2s 7us/sample - loss: 0.9114 - accuracy: 0.6860 - val_loss: 0.5056 - val_accuracy: 0.8813\n",
      "Epoch 12/20\n",
      "223860/223860 [==============================] - 2s 7us/sample - loss: 0.8280 - accuracy: 0.6843 - val_loss: 0.9408 - val_accuracy: 0.5486\n",
      "Epoch 13/20\n",
      "223860/223860 [==============================] - 2s 7us/sample - loss: 0.8160 - accuracy: 0.6785 - val_loss: 0.7668 - val_accuracy: 0.7975.8026 - accuracy: 0. - ETA: 0s - loss: 0.8017 - ac\n",
      "Epoch 14/20\n",
      "223860/223860 [==============================] - 2s 7us/sample - loss: 0.9305 - accuracy: 0.6851 - val_loss: 0.6668 - val_accuracy: 0.7958 - loss: 0 - ETA: 0s - loss: 0.9315 - accuracy: 0.68\n",
      "Epoch 15/20\n",
      "223860/223860 [==============================] - 1s 7us/sample - loss: 1.0320 - accuracy: 0.6871 - val_loss: 1.4622 - val_accuracy: 0.2366\n",
      "Epoch 16/20\n",
      "223860/223860 [==============================] - 2s 7us/sample - loss: 0.9430 - accuracy: 0.6895 - val_loss: 0.6210 - val_accuracy: 0.8304\n",
      "Epoch 17/20\n",
      "223860/223860 [==============================] - 2s 7us/sample - loss: 0.8661 - accuracy: 0.6729 - val_loss: 0.5144 - val_accuracy: 0.8822\n",
      "Epoch 18/20\n",
      "223860/223860 [==============================] - 2s 7us/sample - loss: 1.0914 - accuracy: 0.6794 - val_loss: 1.9726 - val_accuracy: 0.2089\n",
      "Epoch 19/20\n",
      "223860/223860 [==============================] - 2s 7us/sample - loss: 0.7846 - accuracy: 0.6824 - val_loss: 1.5397 - val_accuracy: 0.2768\n",
      "Epoch 20/20\n",
      "223860/223860 [==============================] - 2s 7us/sample - loss: 0.7989 - accuracy: 0.6910 - val_loss: 0.6851 - val_accuracy: 0.7824.8307 - ac\n"
     ]
    }
   ],
   "source": [
    "# Train the model\n",
    "history_linear = model_linear.fit(os_train_x, os_train_y, batch_size=128, epochs=20, verbose=1, validation_data=(X_test, y_test))"
   ]
  },
  {
   "cell_type": "code",
   "execution_count": 20,
   "metadata": {},
   "outputs": [
    {
     "name": "stdout",
     "output_type": "stream",
     "text": [
      "dict_keys(['loss', 'accuracy', 'val_loss', 'val_accuracy'])\n"
     ]
    }
   ],
   "source": [
    "print(history_linear.history.keys())"
   ]
  },
  {
   "cell_type": "code",
   "execution_count": 21,
   "metadata": {},
   "outputs": [
    {
     "data": {
      "image/png": "[encoded data removed]",
      "text/plain": [
       "<Figure size 720x720 with 1 Axes>"
      ]
     },
     "metadata": {
      "needs_background": "light"
     },
     "output_type": "display_data"
    }
   ],
   "source": [
    "plt.plot(history_linear.history['loss'])\n",
    "plt.plot(history_linear.history['val_loss'])\n",
    "plt.title('Loss Plot')\n",
    "plt.ylabel('Loss')\n",
    "plt.xlabel('Epoch')\n",
    "plt.legend(['Train', 'Validation'])\n",
    "plt.show()"
   ]
  },
  {
   "cell_type": "code",
   "execution_count": 22,
   "metadata": {},
   "outputs": [
    {
     "data": {
      "image/png": "[encoded data removed]",
      "text/plain": [
       "<Figure size 720x720 with 1 Axes>"
      ]
     },
     "metadata": {
      "needs_background": "light"
     },
     "output_type": "display_data"
    }
   ],
   "source": [
    "plt.plot(history_linear.history['accuracy'])\n",
    "plt.plot(history_linear.history['val_accuracy'])\n",
    "plt.title('Accuracy Plot')\n",
    "plt.ylabel('Accuracy')\n",
    "plt.xlabel('Epoch')\n",
    "plt.legend(['Train', 'Validation'])\n",
    "plt.show()"
   ]
  },
  {
   "cell_type": "code",
   "execution_count": 23,
   "metadata": {},
   "outputs": [
    {
     "name": "stdout",
     "output_type": "stream",
     "text": [
      "ROC area Linear model: 0.7854360617656333\n"
     ]
    }
   ],
   "source": [
    "from sklearn import metrics\n",
    "\n",
    "p_test = model_linear.predict(X_test)\n",
    "fpr, tpr, thresholds = metrics.roc_curve(y_test, p_test[:,1], pos_label=1)\n",
    "print('ROC area Linear model:', metrics.auc(fpr, tpr))"
   ]
  },
  {
   "cell_type": "code",
   "execution_count": 24,
   "metadata": {},
   "outputs": [
    {
     "name": "stdout",
     "output_type": "stream",
     "text": [
      "[[22217  5827]\n",
      " [  701  1255]]\n"
     ]
    }
   ],
   "source": [
    "#Evaluate the confusion matrix\n",
    "from sklearn.metrics import confusion_matrix\n",
    "\n",
    "pred_test = np.argmax(p_test, axis=1)\n",
    "print(confusion_matrix(y_test, pred_test))\n",
    "cf1=confusion_matrix(y_test, pred_test)"
   ]
  },
  {
   "cell_type": "code",
   "execution_count": 25,
   "metadata": {},
   "outputs": [
    {
     "data": {
      "image/png": "[encoded data removed]",
      "text/plain": [
       "<Figure size 432x288 with 2 Axes>"
      ]
     },
     "metadata": {
      "needs_background": "light"
     },
     "output_type": "display_data"
    }
   ],
   "source": [
    "import seaborn as sns\n",
    "import numpy as np; np.random.seed(0)\n",
    "import matplotlib.pylab as plt\n",
    "import matplotlib.transforms\n",
    "#conf=confusion_matrix(y,pred)\n",
    "plt.figure(figsize=(6,4))\n",
    "ax=sns.heatmap(cf1,xticklabels=['0','1'],yticklabels=['0','1'],annot=True,fmt='d',cmap='YlGnBu',linewidths=0.5)\n",
    "for t in ax.texts:\n",
    "    trans = t.get_transform()\n",
    "    offs = matplotlib.transforms.ScaledTranslation(0.13, 0.03,\n",
    "                    matplotlib.transforms.IdentityTransform())\n",
    "    t.set_transform( offs + trans )\n",
    "\n",
    "\n",
    "plt.xlabel('Predicted_values')\n",
    "plt.ylabel('True_values')\n",
    "plt.show()\n"
   ]
  },
  {
   "cell_type": "code",
   "execution_count": 26,
   "metadata": {},
   "outputs": [
    {
     "name": "stdout",
     "output_type": "stream",
     "text": [
      "              precision    recall  f1-score   support\n",
      "\n",
      "           0      0.969     0.792     0.872     28044\n",
      "           1      0.177     0.642     0.278      1956\n",
      "\n",
      "    accuracy                          0.782     30000\n",
      "   macro avg      0.573     0.717     0.575     30000\n",
      "weighted avg      0.918     0.782     0.833     30000\n",
      "\n"
     ]
    }
   ],
   "source": [
    "print(metrics.classification_report(y_test,pred_test, digits=3))"
   ]
  },
  {
   "cell_type": "markdown",
   "metadata": {},
   "source": [
    "### Model 2 Add 2 dense layers "
   ]
  },
  {
   "cell_type": "code",
   "execution_count": 27,
   "metadata": {},
   "outputs": [
    {
     "name": "stdout",
     "output_type": "stream",
     "text": [
      "dense 1 model...\n",
      "Model: \"model_1\"\n",
      "_________________________________________________________________\n",
      "Layer (type)                 Output Shape              Param #   \n",
      "=================================================================\n",
      "Input_data (InputLayer)      [(None, 12)]              0         \n",
      "_________________________________________________________________\n",
      "Dense_layer_1 (Dense)        (None, 256)               3328      \n",
      "_________________________________________________________________\n",
      "Dense_layer_2 (Dense)        (None, 256)               65792     \n",
      "_________________________________________________________________\n",
      "Dense_output (Dense)         (None, 2)                 514       \n",
      "=================================================================\n",
      "Total params: 69,634\n",
      "Trainable params: 69,634\n",
      "Non-trainable params: 0\n",
      "_________________________________________________________________\n"
     ]
    }
   ],
   "source": [
    "# Second model - Deep nn model\n",
    "print('dense 1 model...')\n",
    "input_data = tf.keras.layers.Input(batch_shape=(None, 12), dtype='float32', name='Input_data') \n",
    "\n",
    "dense1  = tf.keras.layers.Dense(256, activation='relu', name='Dense_layer_1')(input_data)\n",
    "dense2  = tf.keras.layers.Dense(256, activation='relu', name='Dense_layer_2')(dense1)\n",
    "    \n",
    "output_data = tf.keras.layers.Dense(2, activation='softmax', name='Dense_output')(dense2)\n",
    "\n",
    "# Model Architecture defined\n",
    "model_dense1 = tf.keras.models.Model(inputs=input_data, outputs=output_data)\n",
    "model_dense1.summary()"
   ]
  },
  {
   "cell_type": "code",
   "execution_count": 28,
   "metadata": {},
   "outputs": [],
   "source": [
    "# Select optimizer and compile model\n",
    "model_dense1.compile(loss='sparse_categorical_crossentropy',  optimizer='Adam', metrics=['accuracy'])"
   ]
  },
  {
   "cell_type": "code",
   "execution_count": 29,
   "metadata": {
    "scrolled": true
   },
   "outputs": [
    {
     "name": "stdout",
     "output_type": "stream",
     "text": [
      "Train on 223860 samples, validate on 30000 samples\n",
      "Epoch 1/40\n",
      "223860/223860 [==============================] - 3s 14us/sample - loss: 22.6892 - accuracy: 0.5251 - val_loss: 4.8195 - val_accuracy: 0.1077oss: \n",
      "Epoch 2/40\n",
      "223860/223860 [==============================] - 3s 14us/sample - loss: 4.4533 - accuracy: 0.5971 - val_loss: 1.1803 - val_accuracy: 0.4876\n",
      "Epoch 3/40\n",
      "223860/223860 [==============================] - 3s 13us/sample - loss: 1.4493 - accuracy: 0.6534 - val_loss: 0.3960 - val_accuracy: 0.9296\n",
      "Epoch 4/40\n",
      "223860/223860 [==============================] - 3s 13us/sample - loss: 1.0472 - accuracy: 0.6786 - val_loss: 0.3374 - val_accuracy: 0.9061\n",
      "Epoch 5/40\n",
      "223860/223860 [==============================] - 3s 13us/sample - loss: 0.8135 - accuracy: 0.6987 - val_loss: 0.5302 - val_accuracy: 0.8451\n",
      "Epoch 6/40\n",
      "223860/223860 [==============================] - 3s 13us/sample - loss: 0.6539 - accuracy: 0.7216 - val_loss: 0.8332 - val_accuracy: 0.4409ss: 0.6554 - accura\n",
      "Epoch 7/40\n",
      "223860/223860 [==============================] - 3s 14us/sample - loss: 0.6414 - accuracy: 0.6679 - val_loss: 0.4514 - val_accuracy: 0.8487\n",
      "Epoch 8/40\n",
      "223860/223860 [==============================] - 3s 13us/sample - loss: 0.5512 - accuracy: 0.7348 - val_loss: 0.4406 - val_accuracy: 0.8279\n",
      "Epoch 9/40\n",
      "223860/223860 [==============================] - 3s 13us/sample - loss: 0.5192 - accuracy: 0.7546 - val_loss: 0.4318 - val_accuracy: 0.8305\n",
      "Epoch 10/40\n",
      "223860/223860 [==============================] - 3s 13us/sample - loss: 0.4923 - accuracy: 0.7747 - val_loss: 0.5732 - val_accuracy: 0.7059\n",
      "Epoch 11/40\n",
      "223860/223860 [==============================] - 3s 13us/sample - loss: 0.4865 - accuracy: 0.7794 - val_loss: 0.3434 - val_accuracy: 0.8591- ETA: 0s - loss: 0.4910 - accura - ETA: 0s - loss: 0.4888 - accura\n",
      "Epoch 12/40\n",
      "223860/223860 [==============================] - 3s 13us/sample - loss: 0.4754 - accuracy: 0.7880 - val_loss: 0.4180 - val_accuracy: 0.8242\n",
      "Epoch 13/40\n",
      "223860/223860 [==============================] - 3s 13us/sample - loss: 0.4658 - accuracy: 0.7946 - val_loss: 0.4605 - val_accuracy: 0.8013\n",
      "Epoch 14/40\n",
      "223860/223860 [==============================] - 3s 14us/sample - loss: 0.4634 - accuracy: 0.7967 - val_loss: 0.4420 - val_accuracy: 0.8078\n",
      "Epoch 15/40\n",
      "223860/223860 [==============================] - 3s 13us/sample - loss: 0.4589 - accuracy: 0.7996 - val_loss: 0.3917 - val_accuracy: 0.8313\n",
      "Epoch 16/40\n",
      "223860/223860 [==============================] - 3s 13us/sample - loss: 0.4553 - accuracy: 0.8011 - val_loss: 0.3099 - val_accuracy: 0.8714\n",
      "Epoch 17/40\n",
      "223860/223860 [==============================] - 3s 13us/sample - loss: 0.4586 - accuracy: 0.8002 - val_loss: 0.5189 - val_accuracy: 0.7485\n",
      "Epoch 18/40\n",
      "223860/223860 [==============================] - 3s 14us/sample - loss: 0.4489 - accuracy: 0.8051 - val_loss: 0.4682 - val_accuracy: 0.7896\n",
      "Epoch 19/40\n",
      "223860/223860 [==============================] - 3s 13us/sample - loss: 0.4489 - accuracy: 0.8042 - val_loss: 0.3971 - val_accuracy: 0.8246\n",
      "Epoch 20/40\n",
      "223860/223860 [==============================] - 3s 13us/sample - loss: 0.4407 - accuracy: 0.8086 - val_loss: 0.4483 - val_accuracy: 0.7967\n",
      "Epoch 21/40\n",
      "223860/223860 [==============================] - 3s 13us/sample - loss: 0.4401 - accuracy: 0.8088 - val_loss: 0.5066 - val_accuracy: 0.7522\n",
      "Epoch 22/40\n",
      "223860/223860 [==============================] - 3s 13us/sample - loss: 0.4373 - accuracy: 0.8099 - val_loss: 0.4395 - val_accuracy: 0.8017\n",
      "Epoch 23/40\n",
      "223860/223860 [==============================] - 3s 15us/sample - loss: 0.4303 - accuracy: 0.8116 - val_loss: 0.4906 - val_accuracy: 0.7764\n",
      "Epoch 24/40\n",
      "223860/223860 [==============================] - 3s 14us/sample - loss: 0.4285 - accuracy: 0.8124 - val_loss: 0.3916 - val_accuracy: 0.8243\n",
      "Epoch 25/40\n",
      "223860/223860 [==============================] - 3s 13us/sample - loss: 0.4288 - accuracy: 0.8127 - val_loss: 0.5935 - val_accuracy: 0.7075\n",
      "Epoch 26/40\n",
      "223860/223860 [==============================] - 3s 13us/sample - loss: 0.4213 - accuracy: 0.8147 - val_loss: 0.5557 - val_accuracy: 0.7122 - accuracy: 0.81\n",
      "Epoch 27/40\n",
      "223860/223860 [==============================] - 3s 13us/sample - loss: 0.4195 - accuracy: 0.8152 - val_loss: 0.3761 - val_accuracy: 0.8288\n",
      "Epoch 28/40\n",
      "223860/223860 [==============================] - 3s 14us/sample - loss: 0.4204 - accuracy: 0.8157 - val_loss: 0.4187 - val_accuracy: 0.8088\n",
      "Epoch 29/40\n",
      "223860/223860 [==============================] - 3s 14us/sample - loss: 0.4162 - accuracy: 0.8171 - val_loss: 0.4497 - val_accuracy: 0.7925\n",
      "Epoch 30/40\n",
      "223860/223860 [==============================] - 3s 13us/sample - loss: 0.4181 - accuracy: 0.8171 - val_loss: 0.3668 - val_accuracy: 0.8310\n",
      "Epoch 31/40\n",
      "223860/223860 [==============================] - 3s 13us/sample - loss: 0.4145 - accuracy: 0.8179 - val_loss: 0.3533 - val_accuracy: 0.8407\n",
      "Epoch 32/40\n",
      "223860/223860 [==============================] - 3s 13us/sample - loss: 0.4129 - accuracy: 0.8189 - val_loss: 0.3673 - val_accuracy: 0.8275\n",
      "Epoch 33/40\n",
      "223860/223860 [==============================] - 3s 14us/sample - loss: 0.4153 - accuracy: 0.8183 - val_loss: 0.4139 - val_accuracy: 0.8038\n",
      "Epoch 34/40\n",
      "223860/223860 [==============================] - 3s 15us/sample - loss: 0.4081 - accuracy: 0.8222 - val_loss: 0.3525 - val_accuracy: 0.8419\n",
      "Epoch 35/40\n",
      "223860/223860 [==============================] - 3s 13us/sample - loss: 0.4083 - accuracy: 0.8224 - val_loss: 0.4122 - val_accuracy: 0.8475\n",
      "Epoch 36/40\n",
      "223860/223860 [==============================] - 3s 13us/sample - loss: 0.4143 - accuracy: 0.8212 - val_loss: 0.4165 - val_accuracy: 0.7949\n",
      "Epoch 37/40\n",
      "223860/223860 [==============================] - 3s 14us/sample - loss: 0.4188 - accuracy: 0.8221 - val_loss: 0.4297 - val_accuracy: 0.8271\n",
      "Epoch 38/40\n",
      "223860/223860 [==============================] - 3s 13us/sample - loss: 0.4093 - accuracy: 0.8285 - val_loss: 0.4154 - val_accuracy: 0.8363\n",
      "Epoch 39/40\n",
      "223860/223860 [==============================] - 3s 14us/sample - loss: 0.4009 - accuracy: 0.8313 - val_loss: 0.3281 - val_accuracy: 0.8750\n",
      "Epoch 40/40\n",
      "223860/223860 [==============================] - 3s 13us/sample - loss: 0.3983 - accuracy: 0.8327 - val_loss: 0.5600 - val_accuracy: 0.7424\n"
     ]
    }
   ],
   "source": [
    "# Train the model\n",
    "history_dense1 = model_dense1.fit(os_train_x, os_train_y, batch_size=128, epochs=40, verbose=1, validation_data=(X_test, y_test))"
   ]
  },
  {
   "cell_type": "code",
   "execution_count": 30,
   "metadata": {},
   "outputs": [
    {
     "name": "stdout",
     "output_type": "stream",
     "text": [
      "dict_keys(['loss', 'accuracy', 'val_loss', 'val_accuracy'])\n"
     ]
    }
   ],
   "source": [
    "print(history_dense1.history.keys())"
   ]
  },
  {
   "cell_type": "code",
   "execution_count": 31,
   "metadata": {},
   "outputs": [
    {
     "data": {
      "image/png": "[encoded data removed]",
      "text/plain": [
       "<Figure size 720x720 with 1 Axes>"
      ]
     },
     "metadata": {
      "needs_background": "light"
     },
     "output_type": "display_data"
    }
   ],
   "source": [
    "plt.plot(history_dense1.history['loss'])\n",
    "plt.plot(history_dense1.history['val_loss'])\n",
    "plt.title('Loss Plot')\n",
    "plt.ylabel('Loss')\n",
    "plt.xlabel('Epoch')\n",
    "plt.legend(['Train', 'Validation'])\n",
    "plt.show()"
   ]
  },
  {
   "cell_type": "code",
   "execution_count": 32,
   "metadata": {},
   "outputs": [
    {
     "data": {
      "image/png": "[encoded data removed]",
      "text/plain": [
       "<Figure size 720x720 with 1 Axes>"
      ]
     },
     "metadata": {
      "needs_background": "light"
     },
     "output_type": "display_data"
    }
   ],
   "source": [
    "plt.plot(history_dense1.history['accuracy'])\n",
    "plt.plot(history_dense1.history['val_accuracy'])\n",
    "plt.title('Accuracy Plot')\n",
    "plt.ylabel('Accuracy')\n",
    "plt.xlabel('Epoch')\n",
    "plt.legend(['Train', 'Validation'])\n",
    "plt.show()"
   ]
  },
  {
   "cell_type": "code",
   "execution_count": 33,
   "metadata": {},
   "outputs": [
    {
     "name": "stdout",
     "output_type": "stream",
     "text": [
      "ROC area dense 1: 0.8422394920456577\n"
     ]
    }
   ],
   "source": [
    "p_test = model_dense1.predict(X_test)\n",
    "fpr, tpr, thresholds = metrics.roc_curve(y_test, p_test[:,1], pos_label=1)\n",
    "print('ROC area dense 1:', metrics.auc(fpr, tpr))\n"
   ]
  },
  {
   "cell_type": "code",
   "execution_count": 34,
   "metadata": {},
   "outputs": [
    {
     "name": "stdout",
     "output_type": "stream",
     "text": [
      "[[20721  7323]\n",
      " [  405  1551]]\n"
     ]
    }
   ],
   "source": [
    "#Evaluate the confusion matrix\n",
    "from sklearn.metrics import confusion_matrix\n",
    "\n",
    "pred_test = np.argmax(p_test, axis=1)\n",
    "print(confusion_matrix(y_test, pred_test))\n",
    "cf2=confusion_matrix(y_test, pred_test)"
   ]
  },
  {
   "cell_type": "code",
   "execution_count": 35,
   "metadata": {},
   "outputs": [
    {
     "data": {
      "image/png": "[encoded data removed]",
      "text/plain": [
       "<Figure size 432x288 with 2 Axes>"
      ]
     },
     "metadata": {
      "needs_background": "light"
     },
     "output_type": "display_data"
    }
   ],
   "source": [
    "import seaborn as sns\n",
    "import numpy as np; np.random.seed(0)\n",
    "import matplotlib.pylab as plt\n",
    "import matplotlib.transforms\n",
    "#conf=confusion_matrix(y,pred)\n",
    "plt.figure(figsize=(6,4))\n",
    "ax=sns.heatmap(cf2,xticklabels=['0','1'],yticklabels=['0','1'],annot=True,fmt='d',cmap='YlGnBu',linewidths=0.5)\n",
    "for t in ax.texts:\n",
    "    trans = t.get_transform()\n",
    "    offs = matplotlib.transforms.ScaledTranslation(0.13, 0.03,\n",
    "                    matplotlib.transforms.IdentityTransform())\n",
    "    t.set_transform( offs + trans )\n",
    "\n",
    "\n",
    "plt.xlabel('Predicted_values')\n",
    "plt.ylabel('True_values')\n",
    "plt.show()"
   ]
  },
  {
   "cell_type": "code",
   "execution_count": 36,
   "metadata": {},
   "outputs": [
    {
     "name": "stdout",
     "output_type": "stream",
     "text": [
      "              precision    recall  f1-score   support\n",
      "\n",
      "           0      0.981     0.739     0.843     28044\n",
      "           1      0.175     0.793     0.286      1956\n",
      "\n",
      "    accuracy                          0.742     30000\n",
      "   macro avg      0.578     0.766     0.565     30000\n",
      "weighted avg      0.928     0.742     0.807     30000\n",
      "\n"
     ]
    }
   ],
   "source": [
    "print(metrics.classification_report(y_test,pred_test, digits=3))"
   ]
  },
  {
   "cell_type": "markdown",
   "metadata": {},
   "source": [
    "### Model 3: A more dense architecture"
   ]
  },
  {
   "cell_type": "code",
   "execution_count": 37,
   "metadata": {},
   "outputs": [
    {
     "name": "stdout",
     "output_type": "stream",
     "text": [
      "Model: \"model_2\"\n",
      "_________________________________________________________________\n",
      "Layer (type)                 Output Shape              Param #   \n",
      "=================================================================\n",
      "Input_data (InputLayer)      [(None, 12)]              0         \n",
      "_________________________________________________________________\n",
      "dense (Dense)                (None, 256)               3328      \n",
      "_________________________________________________________________\n",
      "dense_1 (Dense)              (None, 128)               32896     \n",
      "_________________________________________________________________\n",
      "dense_2 (Dense)              (None, 64)                8256      \n",
      "_________________________________________________________________\n",
      "dense_3 (Dense)              (None, 64)                4160      \n",
      "_________________________________________________________________\n",
      "Dense_output (Dense)         (None, 2)                 130       \n",
      "=================================================================\n",
      "Total params: 48,770\n",
      "Trainable params: 48,770\n",
      "Non-trainable params: 0\n",
      "_________________________________________________________________\n"
     ]
    }
   ],
   "source": [
    "input_data = tf.keras.layers.Input(batch_shape=(None, 12), dtype='float32', name='Input_data') \n",
    "\n",
    "dense1  = tf.keras.layers.Dense(256, activation='relu')(input_data)\n",
    "dense2  = tf.keras.layers.Dense(128, activation='relu')(dense1)\n",
    "dense3  = tf.keras.layers.Dense(64, activation='relu')(dense2)\n",
    "dense4  = tf.keras.layers.Dense(64, activation='relu')(dense3)\n",
    "dense5  = tf.keras.layers.Dense(32, activation='relu')(dense4)\n",
    "\n",
    "output_data = tf.keras.layers.Dense(2, activation='softmax', name='Dense_output')(dense4)\n",
    "\n",
    "model_dense2 = tf.keras.models.Model(inputs=input_data, outputs=output_data)\n",
    "model_dense2.summary()"
   ]
  },
  {
   "cell_type": "code",
   "execution_count": 38,
   "metadata": {},
   "outputs": [],
   "source": [
    "model_dense2.compile(loss='sparse_categorical_crossentropy', optimizer='Adam', metrics=['accuracy'])\n"
   ]
  },
  {
   "cell_type": "code",
   "execution_count": 39,
   "metadata": {
    "scrolled": true
   },
   "outputs": [
    {
     "name": "stdout",
     "output_type": "stream",
     "text": [
      "Train on 223860 samples, validate on 30000 samples\n",
      "Epoch 1/40\n",
      "223860/223860 [==============================] - 4s 16us/sample - loss: 3.2746 - accuracy: 0.5401 - val_loss: 0.4053 - val_accuracy: 0.8976\n",
      "Epoch 2/40\n",
      "223860/223860 [==============================] - 3s 15us/sample - loss: 0.8954 - accuracy: 0.5701 - val_loss: 0.4437 - val_accuracy: 0.8785\n",
      "Epoch 3/40\n",
      "223860/223860 [==============================] - 4s 16us/sample - loss: 0.6525 - accuracy: 0.6489 - val_loss: 0.5169 - val_accuracy: 0.7826\n",
      "Epoch 4/40\n",
      "223860/223860 [==============================] - 3s 15us/sample - loss: 0.6168 - accuracy: 0.6855 - val_loss: 0.7318 - val_accuracy: 0.5874\n",
      "Epoch 5/40\n",
      "223860/223860 [==============================] - 3s 15us/sample - loss: 0.6052 - accuracy: 0.7137 - val_loss: 0.4375 - val_accuracy: 0.8125loss: 0.6090 - ac - ETA: 0s - loss: 0.6042 - accura\n",
      "Epoch 6/40\n",
      "223860/223860 [==============================] - 3s 15us/sample - loss: 0.5048 - accuracy: 0.7645 - val_loss: 0.5807 - val_accuracy: 0.6940\n",
      "Epoch 7/40\n",
      "223860/223860 [==============================] - 3s 15us/sample - loss: 0.4861 - accuracy: 0.7770 - val_loss: 0.6786 - val_accuracy: 0.67200.4823 - accuracy - ETA: 0s - loss: 0.4842 - accuracy: 0.\n",
      "Epoch 8/40\n",
      "223860/223860 [==============================] - 4s 16us/sample - loss: 0.4807 - accuracy: 0.7835 - val_loss: 0.5227 - val_accuracy: 0.7799\n",
      "Epoch 9/40\n",
      "223860/223860 [==============================] - 3s 15us/sample - loss: 0.4583 - accuracy: 0.7959 - val_loss: 0.4687 - val_accuracy: 0.8177\n",
      "Epoch 10/40\n",
      "223860/223860 [==============================] - 3s 15us/sample - loss: 0.4516 - accuracy: 0.7986 - val_loss: 0.3915 - val_accuracy: 0.8338\n",
      "Epoch 11/40\n",
      "223860/223860 [==============================] - 3s 15us/sample - loss: 0.4385 - accuracy: 0.8048 - val_loss: 0.3727 - val_accuracy: 0.8216\n",
      "Epoch 12/40\n",
      "223860/223860 [==============================] - 3s 15us/sample - loss: 0.4605 - accuracy: 0.7917 - val_loss: 0.6244 - val_accuracy: 0.70864557 - ac - ETA: 0s - loss: 0.4549 - accu\n",
      "Epoch 13/40\n",
      "223860/223860 [==============================] - 3s 16us/sample - loss: 0.4849 - accuracy: 0.7829 - val_loss: 0.4713 - val_accuracy: 0.8370\n",
      "Epoch 14/40\n",
      "223860/223860 [==============================] - 3s 15us/sample - loss: 0.4313 - accuracy: 0.8078 - val_loss: 0.4339 - val_accuracy: 0.8181\n",
      "Epoch 15/40\n",
      "223860/223860 [==============================] - 3s 15us/sample - loss: 0.4267 - accuracy: 0.8096 - val_loss: 0.4109 - val_accuracy: 0.8152\n",
      "Epoch 16/40\n",
      "223860/223860 [==============================] - 3s 15us/sample - loss: 0.4249 - accuracy: 0.8110 - val_loss: 0.3970 - val_accuracy: 0.8308\n",
      "Epoch 17/40\n",
      "223860/223860 [==============================] - 3s 15us/sample - loss: 0.4216 - accuracy: 0.8113 - val_loss: 0.4241 - val_accuracy: 0.8029\n",
      "Epoch 18/40\n",
      "223860/223860 [==============================] - 4s 16us/sample - loss: 0.4200 - accuracy: 0.8130 - val_loss: 0.3582 - val_accuracy: 0.8419\n",
      "Epoch 19/40\n",
      "223860/223860 [==============================] - 3s 15us/sample - loss: 0.4173 - accuracy: 0.8135 - val_loss: 0.3788 - val_accuracy: 0.8370\n",
      "Epoch 20/40\n",
      "223860/223860 [==============================] - 3s 15us/sample - loss: 0.4203 - accuracy: 0.8138 - val_loss: 0.4685 - val_accuracy: 0.7806\n",
      "Epoch 21/40\n",
      "223860/223860 [==============================] - 3s 15us/sample - loss: 0.4179 - accuracy: 0.8139 - val_loss: 0.3957 - val_accuracy: 0.8393\n",
      "Epoch 22/40\n",
      "223860/223860 [==============================] - 3s 15us/sample - loss: 0.4136 - accuracy: 0.8158 - val_loss: 0.4351 - val_accuracy: 0.8064\n",
      "Epoch 23/40\n",
      "223860/223860 [==============================] - 3s 15us/sample - loss: 0.4130 - accuracy: 0.8164 - val_loss: 0.4834 - val_accuracy: 0.7665\n",
      "Epoch 24/40\n",
      "223860/223860 [==============================] - 3s 15us/sample - loss: 0.4112 - accuracy: 0.8169 - val_loss: 0.5785 - val_accuracy: 0.7235\n",
      "Epoch 25/40\n",
      "223860/223860 [==============================] - 3s 15us/sample - loss: 0.4096 - accuracy: 0.8186 - val_loss: 0.4223 - val_accuracy: 0.8195\n",
      "Epoch 26/40\n",
      "223860/223860 [==============================] - 3s 15us/sample - loss: 0.4165 - accuracy: 0.8165 - val_loss: 0.5162 - val_accuracy: 0.7717s - loss: 0.4200 - accuracy: 0. - ETA: 2s - loss: 0.4178 - accura\n",
      "Epoch 27/40\n",
      "223860/223860 [==============================] - 4s 16us/sample - loss: 0.4089 - accuracy: 0.8195 - val_loss: 0.2795 - val_accuracy: 0.9065\n",
      "Epoch 28/40\n",
      "223860/223860 [==============================] - 3s 15us/sample - loss: 0.4077 - accuracy: 0.8199 - val_loss: 0.3543 - val_accuracy: 0.8634\n",
      "Epoch 29/40\n",
      "223860/223860 [==============================] - 3s 15us/sample - loss: 0.4086 - accuracy: 0.8207 - val_loss: 0.5435 - val_accuracy: 0.7708\n",
      "Epoch 30/40\n",
      "223860/223860 [==============================] - 3s 15us/sample - loss: 0.4046 - accuracy: 0.8240 - val_loss: 0.3955 - val_accuracy: 0.8451\n",
      "Epoch 31/40\n",
      "223860/223860 [==============================] - 3s 15us/sample - loss: 0.4028 - accuracy: 0.8251 - val_loss: 0.3972 - val_accuracy: 0.8385A: 1s - loss: 0.4016  - ETA: 0s - loss: 0.4017  - ETA: 0s - loss: 0.4027 - accuracy: 0.\n",
      "Epoch 32/40\n",
      "223860/223860 [==============================] - 4s 16us/sample - loss: 0.4024 - accuracy: 0.8269 - val_loss: 0.4429 - val_accuracy: 0.8483\n",
      "Epoch 33/40\n",
      "223860/223860 [==============================] - 3s 15us/sample - loss: 0.4064 - accuracy: 0.8273 - val_loss: 0.4972 - val_accuracy: 0.7969\n",
      "Epoch 34/40\n",
      "223860/223860 [==============================] - 3s 15us/sample - loss: 0.4018 - accuracy: 0.8294 - val_loss: 0.3743 - val_accuracy: 0.8609\n",
      "Epoch 35/40\n",
      "223860/223860 [==============================] - 3s 15us/sample - loss: 0.3983 - accuracy: 0.8324 - val_loss: 0.3616 - val_accuracy: 0.8641\n",
      "Epoch 36/40\n",
      "223860/223860 [==============================] - 3s 15us/sample - loss: 0.3955 - accuracy: 0.8346 - val_loss: 0.4494 - val_accuracy: 0.8336- loss: 0.397 - ETA: 1s - loss: 0.3957 - ac - ETA: 0s - loss: 0.3947 - accuracy - ETA: 0s - loss: 0.394\n",
      "Epoch 37/40\n",
      "223860/223860 [==============================] - 3s 16us/sample - loss: 0.4233 - accuracy: 0.8157 - val_loss: 0.4579 - val_accuracy: 0.8275\n",
      "Epoch 38/40\n",
      "223860/223860 [==============================] - 3s 15us/sample - loss: 0.4174 - accuracy: 0.8213 - val_loss: 0.4079 - val_accuracy: 0.8598\n",
      "Epoch 39/40\n",
      "223860/223860 [==============================] - 3s 15us/sample - loss: 0.3980 - accuracy: 0.8341 - val_loss: 0.3537 - val_accuracy: 0.8770\n",
      "Epoch 40/40\n",
      "223860/223860 [==============================] - 3s 15us/sample - loss: 0.3933 - accuracy: 0.8372 - val_loss: 0.4062 - val_accuracy: 0.84060.3940 - accuracy - ETA: 0s - loss: 0.3934 - accuracy: 0.83\n"
     ]
    }
   ],
   "source": [
    "# Train the model\n",
    "\n",
    "history_dense2 = model_dense2.fit(os_train_x, os_train_y, batch_size=128, epochs=40,\n",
    "                                  verbose=1, validation_data=(X_test, y_test))"
   ]
  },
  {
   "cell_type": "code",
   "execution_count": 40,
   "metadata": {},
   "outputs": [
    {
     "name": "stdout",
     "output_type": "stream",
     "text": [
      "dict_keys(['loss', 'accuracy', 'val_loss', 'val_accuracy'])\n"
     ]
    }
   ],
   "source": [
    "print(history_dense2.history.keys())"
   ]
  },
  {
   "cell_type": "code",
   "execution_count": 41,
   "metadata": {},
   "outputs": [
    {
     "data": {
      "image/png": "[encoded data removed]",
      "text/plain": [
       "<Figure size 720x720 with 1 Axes>"
      ]
     },
     "metadata": {
      "needs_background": "light"
     },
     "output_type": "display_data"
    }
   ],
   "source": [
    "plt.plot(history_dense2.history['loss'])\n",
    "plt.plot(history_dense2.history['val_loss'])\n",
    "plt.title('Loss Plot')\n",
    "plt.ylabel('Loss')\n",
    "plt.xlabel('Epoch')\n",
    "plt.legend(['Train', 'Validation'])\n",
    "plt.show()"
   ]
  },
  {
   "cell_type": "code",
   "execution_count": 42,
   "metadata": {},
   "outputs": [
    {
     "data": {
      "image/png": "[encoded data removed]",
      "text/plain": [
       "<Figure size 720x720 with 1 Axes>"
      ]
     },
     "metadata": {
      "needs_background": "light"
     },
     "output_type": "display_data"
    }
   ],
   "source": [
    "plt.plot(history_dense2.history['accuracy'])\n",
    "plt.plot(history_dense2.history['val_accuracy'])\n",
    "plt.title('Accuracy Plot')\n",
    "plt.ylabel('Accuracy')\n",
    "plt.xlabel('Epoch')\n",
    "plt.legend(['Train', 'Validation'])\n",
    "plt.show()"
   ]
  },
  {
   "cell_type": "code",
   "execution_count": 43,
   "metadata": {},
   "outputs": [
    {
     "name": "stdout",
     "output_type": "stream",
     "text": [
      "ROC area dense 2: 0.8495484309056845\n"
     ]
    }
   ],
   "source": [
    "# Evaluate ROC\n",
    "p_test = model_dense2.predict(X_test)\n",
    "fpr, tpr, thresholds = metrics.roc_curve(y_test, p_test[:,1], pos_label=1)\n",
    "print('ROC area dense 2:', metrics.auc(fpr, tpr))\n"
   ]
  },
  {
   "cell_type": "code",
   "execution_count": 44,
   "metadata": {},
   "outputs": [
    {
     "name": "stdout",
     "output_type": "stream",
     "text": [
      "[[23918  4126]\n",
      " [  656  1300]]\n"
     ]
    }
   ],
   "source": [
    "#Evaluate the confusion matrix\n",
    "from sklearn.metrics import confusion_matrix\n",
    "\n",
    "pred_test = np.argmax(p_test, axis=1)\n",
    "print(confusion_matrix(y_test, pred_test))\n",
    "cf3=confusion_matrix(y_test, pred_test)"
   ]
  },
  {
   "cell_type": "code",
   "execution_count": 45,
   "metadata": {},
   "outputs": [
    {
     "data": {
      "image/png": "[encoded data removed]",
      "text/plain": [
       "<Figure size 432x288 with 2 Axes>"
      ]
     },
     "metadata": {
      "needs_background": "light"
     },
     "output_type": "display_data"
    }
   ],
   "source": [
    "import seaborn as sns\n",
    "import numpy as np; np.random.seed(0)\n",
    "import matplotlib.pylab as plt\n",
    "import matplotlib.transforms\n",
    "#conf=confusion_matrix(y,pred)\n",
    "plt.figure(figsize=(6,4))\n",
    "ax=sns.heatmap(cf3,xticklabels=['0','1'],yticklabels=['0','1'],annot=True,fmt='d',cmap='YlGnBu',linewidths=0.5)\n",
    "for t in ax.texts:\n",
    "    trans = t.get_transform()\n",
    "    offs = matplotlib.transforms.ScaledTranslation(0.13, 0.03,\n",
    "                    matplotlib.transforms.IdentityTransform())\n",
    "    t.set_transform( offs + trans )\n",
    "\n",
    "\n",
    "plt.xlabel('Predicted_values')\n",
    "plt.ylabel('True_values')\n",
    "plt.show()"
   ]
  },
  {
   "cell_type": "code",
   "execution_count": 46,
   "metadata": {},
   "outputs": [
    {
     "name": "stdout",
     "output_type": "stream",
     "text": [
      "              precision    recall  f1-score   support\n",
      "\n",
      "           0      0.973     0.853     0.909     28044\n",
      "           1      0.240     0.665     0.352      1956\n",
      "\n",
      "    accuracy                          0.841     30000\n",
      "   macro avg      0.606     0.759     0.631     30000\n",
      "weighted avg      0.925     0.841     0.873     30000\n",
      "\n"
     ]
    }
   ],
   "source": [
    "print(metrics.classification_report(y_test,pred_test, digits=3))"
   ]
  },
  {
   "cell_type": "markdown",
   "metadata": {},
   "source": [
    "### Model 4: Add regularization and early stopping"
   ]
  },
  {
   "cell_type": "code",
   "execution_count": 47,
   "metadata": {
    "scrolled": true
   },
   "outputs": [
    {
     "name": "stdout",
     "output_type": "stream",
     "text": [
      "Model: \"model_3\"\n",
      "_________________________________________________________________\n",
      "Layer (type)                 Output Shape              Param #   \n",
      "=================================================================\n",
      "Input_data (InputLayer)      [(None, 12)]              0         \n",
      "_________________________________________________________________\n",
      "dense_5 (Dense)              (None, 256)               3328      \n",
      "_________________________________________________________________\n",
      "dense_6 (Dense)              (None, 128)               32896     \n",
      "_________________________________________________________________\n",
      "dense_7 (Dense)              (None, 64)                8256      \n",
      "_________________________________________________________________\n",
      "dense_8 (Dense)              (None, 64)                4160      \n",
      "_________________________________________________________________\n",
      "dropout (Dropout)            (None, 64)                0         \n",
      "_________________________________________________________________\n",
      "dense_9 (Dense)              (None, 32)                2080      \n",
      "_________________________________________________________________\n",
      "dropout_1 (Dropout)          (None, 32)                0         \n",
      "_________________________________________________________________\n",
      "Dense_output (Dense)         (None, 2)                 66        \n",
      "=================================================================\n",
      "Total params: 50,786\n",
      "Trainable params: 50,786\n",
      "Non-trainable params: 0\n",
      "_________________________________________________________________\n"
     ]
    }
   ],
   "source": [
    "input_data = tf.keras.layers.Input(batch_shape=(None, 12), dtype='float32', name='Input_data') \n",
    "\n",
    "dense1  = tf.keras.layers.Dense(256, activation='relu')(input_data)\n",
    "\n",
    "dense2  = tf.keras.layers.Dense(128, activation='relu')(dense1)\n",
    "\n",
    "dense3  = tf.keras.layers.Dense(64, activation='relu')(dense2)\n",
    "\n",
    "dense4  = tf.keras.layers.Dense(64, activation='relu')(dense3)\n",
    "dense4 = tf.keras.layers.Dropout(0.5)(dense4)\n",
    "\n",
    "dense5  = tf.keras.layers.Dense(32, activation='relu')(dense4)\n",
    "dense5 = tf.keras.layers.Dropout(0.5)(dense5)\n",
    "\n",
    "output_data = tf.keras.layers.Dense(2, activation='sigmoid', name='Dense_output')(dense5)\n",
    "\n",
    "\n",
    "model_dense3 = tf.keras.models.Model(inputs=input_data, outputs=output_data)\n",
    "model_dense3.summary()\n"
   ]
  },
  {
   "cell_type": "code",
   "execution_count": 48,
   "metadata": {},
   "outputs": [],
   "source": [
    "model_dense3.compile(loss='sparse_categorical_crossentropy', optimizer='Adam', metrics=['accuracy'])"
   ]
  },
  {
   "cell_type": "code",
   "execution_count": 49,
   "metadata": {},
   "outputs": [],
   "source": [
    "from tensorflow.keras.callbacks import EarlyStopping\n",
    "custom_early_stopping = EarlyStopping(\n",
    "    monitor='val_accuracy', \n",
    "    patience=50, \n",
    "    min_delta=0.001, \n",
    "    mode='max'\n",
    ")\n",
    "\n",
    "#es = EarlyStopping(monitor='val_loss', mode='min', verbose=1, patience=50)"
   ]
  },
  {
   "cell_type": "code",
   "execution_count": 50,
   "metadata": {
    "scrolled": true
   },
   "outputs": [
    {
     "name": "stdout",
     "output_type": "stream",
     "text": [
      "Train on 223860 samples, validate on 30000 samples\n",
      "Epoch 1/100\n",
      "223860/223860 [==============================] - 5s 21us/sample - loss: 0.7971 - accuracy: 0.4996 - val_loss: 0.6931 - val_accuracy: 0.9344\n",
      "Epoch 2/100\n",
      "223860/223860 [==============================] - 4s 18us/sample - loss: 0.6996 - accuracy: 0.4998 - val_loss: 0.6931 - val_accuracy: 0.9348\n",
      "Epoch 3/100\n",
      "223860/223860 [==============================] - 4s 19us/sample - loss: 0.6970 - accuracy: 0.4999 - val_loss: 0.6931 - val_accuracy: 0.9348\n",
      "Epoch 4/100\n",
      "223860/223860 [==============================] - 4s 18us/sample - loss: 0.6983 - accuracy: 0.5001 - val_loss: 0.6931 - val_accuracy: 0.9348\n",
      "Epoch 5/100\n",
      "223860/223860 [==============================] - 4s 19us/sample - loss: 0.6963 - accuracy: 0.5000 - val_loss: 0.6931 - val_accuracy: 0.9348\n",
      "Epoch 6/100\n",
      "223860/223860 [==============================] - 4s 18us/sample - loss: 0.7002 - accuracy: 0.4999 - val_loss: 0.6931 - val_accuracy: 0.9348\n",
      "Epoch 7/100\n",
      "223860/223860 [==============================] - 4s 18us/sample - loss: 0.6970 - accuracy: 0.5000 - val_loss: 0.6931 - val_accuracy: 0.9348- ETA: 1s - loss: 0.6987  - ETA: \n",
      "Epoch 8/100\n",
      "223860/223860 [==============================] - 4s 18us/sample - loss: 0.6940 - accuracy: 0.5000 - val_loss: 0.6931 - val_accuracy: 0.9348\n",
      "Epoch 9/100\n",
      "223860/223860 [==============================] - 4s 19us/sample - loss: 0.6935 - accuracy: 0.5000 - val_loss: 0.6931 - val_accuracy: 0.9348\n",
      "Epoch 10/100\n",
      "223860/223860 [==============================] - 4s 18us/sample - loss: 0.6948 - accuracy: 0.5000 - val_loss: 0.6931 - val_accuracy: 0.9348\n",
      "Epoch 11/100\n",
      "223860/223860 [==============================] - 4s 18us/sample - loss: 0.6961 - accuracy: 0.5000 - val_loss: 0.6931 - val_accuracy: 0.9348ss: 0.6960 -  - ETA: 0s - loss: 0.6960 - accuracy: \n",
      "Epoch 12/100\n",
      "223860/223860 [==============================] - 4s 18us/sample - loss: 0.6961 - accuracy: 0.5000 - val_loss: 0.6931 - val_accuracy: 0.9348\n",
      "Epoch 13/100\n",
      "223860/223860 [==============================] - 4s 19us/sample - loss: 0.6954 - accuracy: 0.5000 - val_loss: 0.6931 - val_accuracy: 0.9348s - loss: 0.6953 - accuracy: 0. - E\n",
      "Epoch 14/100\n",
      "223860/223860 [==============================] - 4s 18us/sample - loss: 0.6950 - accuracy: 0.5000 - val_loss: 0.6931 - val_accuracy: 0.9348\n",
      "Epoch 15/100\n",
      "223860/223860 [==============================] - 4s 18us/sample - loss: 0.6951 - accuracy: 0.5000 - val_loss: 0.6931 - val_accuracy: 0.9348\n",
      "Epoch 16/100\n",
      "223860/223860 [==============================] - 4s 19us/sample - loss: 0.6959 - accuracy: 0.5000 - val_loss: 0.6931 - val_accuracy: 0.9348\n",
      "Epoch 17/100\n",
      "223860/223860 [==============================] - 4s 19us/sample - loss: 0.6956 - accuracy: 0.5000 - val_loss: 0.6931 - val_accuracy: 0.9348\n",
      "Epoch 18/100\n",
      "223860/223860 [==============================] - 4s 18us/sample - loss: 0.7091 - accuracy: 0.5001 - val_loss: 0.6931 - val_accuracy: 0.9348\n",
      "Epoch 19/100\n",
      "223860/223860 [==============================] - 4s 18us/sample - loss: 0.7879 - accuracy: 0.5001 - val_loss: 0.6931 - val_accuracy: 0.9348\n",
      "Epoch 20/100\n",
      "223860/223860 [==============================] - 4s 19us/sample - loss: 0.7078 - accuracy: 0.5000 - val_loss: 0.6931 - val_accuracy: 0.9348 - accuracy:  - ETA: 0s - loss: 0.7\n",
      "Epoch 21/100\n",
      "223860/223860 [==============================] - 4s 20us/sample - loss: 0.7035 - accuracy: 0.5000 - val_loss: 0.6931 - val_accuracy: 0.934836 - accuracy: 0.49\n",
      "Epoch 22/100\n",
      "223860/223860 [==============================] - 4s 18us/sample - loss: 0.6997 - accuracy: 0.4999 - val_loss: 0.6931 - val_accuracy: 0.9348\n",
      "Epoch 23/100\n",
      "223860/223860 [==============================] - 4s 18us/sample - loss: 0.6974 - accuracy: 0.5000 - val_loss: 0.6931 - val_accuracy: 0.9348\n",
      "Epoch 24/100\n",
      "223860/223860 [==============================] - 4s 19us/sample - loss: 0.6978 - accuracy: 0.5000 - val_loss: 0.6931 - val_accuracy: 0.9348\n",
      "Epoch 25/100\n",
      "223860/223860 [==============================] - 4s 18us/sample - loss: 0.6985 - accuracy: 0.5001 - val_loss: 0.6931 - val_accuracy: 0.9348\n",
      "Epoch 26/100\n",
      "223860/223860 [==============================] - 4s 18us/sample - loss: 0.7028 - accuracy: 0.5000 - val_loss: 0.6931 - val_accuracy: 0.9348\n",
      "Epoch 27/100\n",
      "223860/223860 [==============================] - 4s 18us/sample - loss: 0.7026 - accuracy: 0.5000 - val_loss: 0.6931 - val_accuracy: 0.9348\n",
      "Epoch 28/100\n",
      "223860/223860 [==============================] - 4s 19us/sample - loss: 0.7017 - accuracy: 0.5000 - val_loss: 0.6931 - val_accuracy: 0.9348\n",
      "Epoch 29/100\n",
      "223860/223860 [==============================] - 4s 18us/sample - loss: 0.6998 - accuracy: 0.5000 - val_loss: 0.6931 - val_accuracy: 0.9348\n",
      "Epoch 30/100\n",
      "223860/223860 [==============================] - 4s 18us/sample - loss: 0.7003 - accuracy: 0.5000 - val_loss: 0.6931 - val_accuracy: 0.9348\n",
      "Epoch 31/100\n",
      "223860/223860 [==============================] - 4s 18us/sample - loss: 0.6972 - accuracy: 0.5000 - val_loss: 0.6931 - val_accuracy: 0.9348\n",
      "Epoch 32/100\n",
      "223860/223860 [==============================] - 4s 19us/sample - loss: 0.6981 - accuracy: 0.5000 - val_loss: 0.6931 - val_accuracy: 0.9348\n",
      "Epoch 33/100\n",
      "223860/223860 [==============================] - 4s 18us/sample - loss: 0.6984 - accuracy: 0.5001 - val_loss: 0.6931 - val_accuracy: 0.9348\n",
      "Epoch 34/100\n",
      "223860/223860 [==============================] - 4s 18us/sample - loss: 0.7002 - accuracy: 0.5000 - val_loss: 0.6931 - val_accuracy: 0.9348\n",
      "Epoch 35/100\n",
      "223860/223860 [==============================] - 4s 18us/sample - loss: 0.7084 - accuracy: 0.4999 - val_loss: 0.6931 - val_accuracy: 0.9348\n",
      "Epoch 36/100\n",
      "223860/223860 [==============================] - 4s 19us/sample - loss: 0.7222 - accuracy: 0.5001 - val_loss: 0.6931 - val_accuracy: 0.9348\n",
      "Epoch 37/100\n",
      "223860/223860 [==============================] - 4s 18us/sample - loss: 0.7618 - accuracy: 0.5001 - val_loss: 0.6931 - val_accuracy: 0.9348\n",
      "Epoch 38/100\n",
      "223860/223860 [==============================] - 4s 18us/sample - loss: 0.8711 - accuracy: 0.4999 - val_loss: 0.6931 - val_accuracy: 0.9348\n",
      "Epoch 39/100\n",
      "223860/223860 [==============================] - 4s 19us/sample - loss: 0.7371 - accuracy: 0.5000 - val_loss: 0.6931 - val_accuracy: 0.9348uracy: 0.50 - ETA: 2s - loss: 0 - ETA - ETA: 0s - loss: 0.7369 - accuracy - ETA: 0s - loss:\n",
      "Epoch 40/100\n",
      "223860/223860 [==============================] - 4s 19us/sample - loss: 0.7278 - accuracy: 0.5000 - val_loss: 0.6931 - val_accuracy: 0.9348\n",
      "Epoch 41/100\n",
      "223860/223860 [==============================] - 4s 18us/sample - loss: 0.7088 - accuracy: 0.5000 - val_loss: 0.6931 - val_accuracy: 0.9348\n",
      "Epoch 42/100\n",
      "223860/223860 [==============================] - 4s 19us/sample - loss: 0.7016 - accuracy: 0.5000 - val_loss: 0.6931 - val_accuracy: 0.9348\n",
      "Epoch 43/100\n",
      "223860/223860 [==============================] - 5s 21us/sample - loss: 0.6969 - accuracy: 0.5000 - val_loss: 0.6931 - val_accuracy: 0.9348\n",
      "Epoch 44/100\n",
      "223860/223860 [==============================] - 5s 23us/sample - loss: 0.6979 - accuracy: 0.5000 - val_loss: 0.6931 - val_accuracy: 0.9348\n",
      "Epoch 45/100\n",
      "223860/223860 [==============================] - 4s 19us/sample - loss: 0.6961 - accuracy: 0.5001 - val_loss: 0.6931 - val_accuracy: 0.9348\n",
      "Epoch 46/100\n",
      "223860/223860 [==============================] - 4s 18us/sample - loss: 0.6973 - accuracy: 0.5000 - val_loss: 0.6931 - val_accuracy: 0.9348ss: 0.6973 - \n",
      "Epoch 47/100\n",
      "223860/223860 [==============================] - 4s 19us/sample - loss: 0.6983 - accuracy: 0.4999 - val_loss: 0.6931 - val_accuracy: 0.9348\n",
      "Epoch 48/100\n",
      "223860/223860 [==============================] - 4s 18us/sample - loss: 0.6973 - accuracy: 0.5000 - val_loss: 0.6931 - val_accuracy: 0.9348\n",
      "Epoch 49/100\n",
      "223860/223860 [==============================] - 4s 18us/sample - loss: 0.6959 - accuracy: 0.5000 - val_loss: 0.6931 - val_accuracy: 0.9348\n",
      "Epoch 50/100\n",
      "223860/223860 [==============================] - 4s 18us/sample - loss: 0.6954 - accuracy: 0.5000 - val_loss: 0.6931 - val_accuracy: 0.9348\n",
      "Epoch 51/100\n",
      "223860/223860 [==============================] - 4s 19us/sample - loss: 0.6963 - accuracy: 0.5001 - val_loss: 0.6931 - val_accuracy: 0.9348\n"
     ]
    }
   ],
   "source": [
    "# Train the model\n",
    "\n",
    "history_dense3 = model_dense3.fit(os_train_x, os_train_y, batch_size=128, epochs=100, verbose=1,callbacks=[custom_early_stopping] , validation_data=(X_test, y_test))"
   ]
  },
  {
   "cell_type": "code",
   "execution_count": 51,
   "metadata": {},
   "outputs": [
    {
     "name": "stdout",
     "output_type": "stream",
     "text": [
      "dict_keys(['loss', 'accuracy', 'val_loss', 'val_accuracy'])\n"
     ]
    }
   ],
   "source": [
    "print(history_dense3.history.keys())"
   ]
  },
  {
   "cell_type": "code",
   "execution_count": 52,
   "metadata": {},
   "outputs": [
    {
     "data": {
      "image/png": "[encoded data removed]",
      "text/plain": [
       "<Figure size 720x720 with 1 Axes>"
      ]
     },
     "metadata": {
      "needs_background": "light"
     },
     "output_type": "display_data"
    }
   ],
   "source": [
    "plt.plot(history_dense3.history['loss'])\n",
    "plt.plot(history_dense3.history['val_loss'])\n",
    "plt.title('Loss Plot')\n",
    "plt.ylabel('Loss')\n",
    "plt.xlabel('Epoch')\n",
    "plt.legend(['Train', 'Validation'])\n",
    "plt.show()"
   ]
  },
  {
   "cell_type": "code",
   "execution_count": 53,
   "metadata": {},
   "outputs": [
    {
     "data": {
      "image/png": "[encoded data removed]",
      "text/plain": [
       "<Figure size 720x720 with 1 Axes>"
      ]
     },
     "metadata": {
      "needs_background": "light"
     },
     "output_type": "display_data"
    }
   ],
   "source": [
    "plt.plot(history_dense3.history['accuracy'])\n",
    "plt.plot(history_dense3.history['val_accuracy'])\n",
    "plt.title('Accuracy Plot')\n",
    "plt.ylabel('Accuracy')\n",
    "plt.xlabel('Epoch')\n",
    "plt.legend(['Train', 'Validation'])\n",
    "plt.show()"
   ]
  },
  {
   "cell_type": "code",
   "execution_count": 54,
   "metadata": {},
   "outputs": [
    {
     "name": "stdout",
     "output_type": "stream",
     "text": [
      "ROC area dense 3: 0.5\n"
     ]
    }
   ],
   "source": [
    "p_test = model_dense3.predict(X_test)\n",
    "fpr, tpr, thresholds = metrics.roc_curve(y_test, p_test[:,1], pos_label=1)\n",
    "print('ROC area dense 3:', metrics.auc(fpr, tpr))"
   ]
  },
  {
   "cell_type": "code",
   "execution_count": 55,
   "metadata": {},
   "outputs": [
    {
     "name": "stdout",
     "output_type": "stream",
     "text": [
      "[[28044     0]\n",
      " [ 1956     0]]\n"
     ]
    }
   ],
   "source": [
    "#Evaluate the confusion matrix\n",
    "from sklearn.metrics import confusion_matrix\n",
    "\n",
    "pred_test = np.argmax(p_test, axis=1)\n",
    "print(confusion_matrix(y_test, pred_test))\n",
    "cf4=confusion_matrix(y_test, pred_test)"
   ]
  },
  {
   "cell_type": "code",
   "execution_count": 56,
   "metadata": {
    "scrolled": true
   },
   "outputs": [
    {
     "data": {
      "image/png": "[encoded data removed]",
      "text/plain": [
       "<Figure size 432x288 with 2 Axes>"
      ]
     },
     "metadata": {
      "needs_background": "light"
     },
     "output_type": "display_data"
    }
   ],
   "source": [
    "import seaborn as sns\n",
    "import numpy as np; np.random.seed(0)\n",
    "import matplotlib.pylab as plt\n",
    "import matplotlib.transforms\n",
    "#conf=confusion_matrix(y,pred)\n",
    "plt.figure(figsize=(6,4))\n",
    "ax=sns.heatmap(cf4,xticklabels=['0','1'],yticklabels=['0','1'],annot=True,fmt='d',cmap='YlGnBu',linewidths=0.5)\n",
    "for t in ax.texts:\n",
    "    trans = t.get_transform()\n",
    "    offs = matplotlib.transforms.ScaledTranslation(0.13, 0.03,\n",
    "                    matplotlib.transforms.IdentityTransform())\n",
    "    t.set_transform( offs + trans )\n",
    "\n",
    "\n",
    "plt.xlabel('Predicted_values')\n",
    "plt.ylabel('True_values')\n",
    "plt.show()"
   ]
  },
  {
   "cell_type": "code",
   "execution_count": 57,
   "metadata": {},
   "outputs": [
    {
     "name": "stdout",
     "output_type": "stream",
     "text": [
      "              precision    recall  f1-score   support\n",
      "\n",
      "           0      0.935     1.000     0.966     28044\n",
      "           1      0.000     0.000     0.000      1956\n",
      "\n",
      "    accuracy                          0.935     30000\n",
      "   macro avg      0.467     0.500     0.483     30000\n",
      "weighted avg      0.874     0.935     0.903     30000\n",
      "\n"
     ]
    }
   ],
   "source": [
    "print(metrics.classification_report(y_test,pred_test, digits=3))"
   ]
  },
  {
   "cell_type": "markdown",
   "metadata": {},
   "source": [
    "### Predicting on the Test data"
   ]
  },
  {
   "cell_type": "code",
   "execution_count": 58,
   "metadata": {},
   "outputs": [],
   "source": [
    "test_data= pd.read_csv(\"cs-test.csv\", sep=',', header=0)\n",
    "test_data=test_data.rename(columns = {'Unnamed: 0':'id'})"
   ]
  },
  {
   "cell_type": "code",
   "execution_count": 59,
   "metadata": {},
   "outputs": [
    {
     "name": "stdout",
     "output_type": "stream",
     "text": [
      "(101503, 12)\n",
      "['id', 'SeriousDlqin2yrs', 'RevolvingUtilizationOfUnsecuredLines', 'age', 'NumberOfTime30-59DaysPastDueNotWorse', 'DebtRatio', 'MonthlyIncome', 'NumberOfOpenCreditLinesAndLoans', 'NumberOfTimes90DaysLate', 'NumberRealEstateLoansOrLines', 'NumberOfTime60-89DaysPastDueNotWorse', 'NumberOfDependents']\n",
      "id                                        int64\n",
      "SeriousDlqin2yrs                        float64\n",
      "RevolvingUtilizationOfUnsecuredLines    float64\n",
      "age                                       int64\n",
      "NumberOfTime30-59DaysPastDueNotWorse      int64\n",
      "DebtRatio                               float64\n",
      "MonthlyIncome                           float64\n",
      "NumberOfOpenCreditLinesAndLoans           int64\n",
      "NumberOfTimes90DaysLate                   int64\n",
      "NumberRealEstateLoansOrLines              int64\n",
      "NumberOfTime60-89DaysPastDueNotWorse      int64\n",
      "NumberOfDependents                      float64\n",
      "dtype: object\n"
     ]
    }
   ],
   "source": [
    "print(test_data.shape)\n",
    "print(list(test_data.columns))\n",
    "print((test_data.dtypes))"
   ]
  },
  {
   "cell_type": "code",
   "execution_count": 60,
   "metadata": {},
   "outputs": [],
   "source": [
    "test_data.drop(\"id\", axis = 1, inplace= True)\n",
    "test_data.drop(\"SeriousDlqin2yrs\", axis = 1, inplace= True)\n"
   ]
  },
  {
   "cell_type": "code",
   "execution_count": 61,
   "metadata": {},
   "outputs": [
    {
     "name": "stdout",
     "output_type": "stream",
     "text": [
      "RevolvingUtilizationOfUnsecuredLines        0\n",
      "age                                         0\n",
      "NumberOfTime30-59DaysPastDueNotWorse        0\n",
      "DebtRatio                                   0\n",
      "MonthlyIncome                           20103\n",
      "NumberOfOpenCreditLinesAndLoans             0\n",
      "NumberOfTimes90DaysLate                     0\n",
      "NumberRealEstateLoansOrLines                0\n",
      "NumberOfTime60-89DaysPastDueNotWorse        0\n",
      "NumberOfDependents                       2626\n",
      "dtype: int64\n"
     ]
    }
   ],
   "source": [
    "# Check missing values\n",
    "print(test_data.isnull().sum(axis=0))"
   ]
  },
  {
   "cell_type": "code",
   "execution_count": 62,
   "metadata": {},
   "outputs": [],
   "source": [
    "# Generate missing imputators variables.\n",
    "test_data['MonthlyIncomeMissing'] = test_data.apply(lambda row: 1 if pd.isnull(row['MonthlyIncome']) else 0, axis=1)\n",
    "test_data['NumberOfDependentsMissing'] = test_data.apply(lambda row: 1 if pd.isnull(row['NumberOfDependents']) else 0, axis=1)\n",
    "\n",
    "# Impute missing values by the mean\n",
    "test_data = test_data.fillna(test_data.mean())"
   ]
  },
  {
   "cell_type": "code",
   "execution_count": 63,
   "metadata": {},
   "outputs": [
    {
     "name": "stdout",
     "output_type": "stream",
     "text": [
      "RevolvingUtilizationOfUnsecuredLines    0\n",
      "age                                     0\n",
      "NumberOfTime30-59DaysPastDueNotWorse    0\n",
      "DebtRatio                               0\n",
      "MonthlyIncome                           0\n",
      "NumberOfOpenCreditLinesAndLoans         0\n",
      "NumberOfTimes90DaysLate                 0\n",
      "NumberRealEstateLoansOrLines            0\n",
      "NumberOfTime60-89DaysPastDueNotWorse    0\n",
      "NumberOfDependents                      0\n",
      "MonthlyIncomeMissing                    0\n",
      "NumberOfDependentsMissing               0\n",
      "dtype: int64\n"
     ]
    }
   ],
   "source": [
    "print(test_data.isnull().sum(axis=0))"
   ]
  },
  {
   "cell_type": "code",
   "execution_count": 64,
   "metadata": {},
   "outputs": [
    {
     "data": {
      "text/plain": [
       "(101503, 12)"
      ]
     },
     "execution_count": 64,
     "metadata": {},
     "output_type": "execute_result"
    }
   ],
   "source": [
    "test_data.shape"
   ]
  },
  {
   "cell_type": "code",
   "execution_count": 65,
   "metadata": {},
   "outputs": [],
   "source": [
    "test_pred_unseen = model_dense2.predict(test_data)\n",
    "test_pred_unseen = np.argmax(test_pred_unseen,axis=1)\n",
    "test_pred_unseen2 = pd.DataFrame(test_pred_unseen)\n",
    "test_pred_unseen2.to_csv(\"Testoutput.csv\")"
   ]
  },
  {
   "cell_type": "code",
   "execution_count": null,
   "metadata": {},
   "outputs": [],
   "source": []
  }
 ],
 "metadata": {
  "kernelspec": {
   "display_name": "Python 3",
   "language": "python",
   "name": "python3"
  },
  "language_info": {
   "codemirror_mode": {
    "name": "ipython",
    "version": 3
   },
   "file_extension": ".py",
   "mimetype": "text/x-python",
   "name": "python",
   "nbconvert_exporter": "python",
   "pygments_lexer": "ipython3",
   "version": "3.7.4"
  }
 },
 "nbformat": 4,
 "nbformat_minor": 2
}
